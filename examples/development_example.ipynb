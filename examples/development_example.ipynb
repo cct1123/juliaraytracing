{
 "cells": [
  {
   "cell_type": "code",
   "execution_count": 2,
   "metadata": {},
   "outputs": [
    {
     "data": {
      "text/plain": [
       "ImplicitSurface(Frame([0.0, -5.0, 0.0], [1.0 0.0 0.0; 0.0 -1.0 -1.2246467991473532e-16; 0.0 1.2246467991473532e-16 -1.0]), var\"#30#31\"{Vector{Float64}, Float64, Float64, Float64}([0.0, 0.0, 10.0], 4.0, 1.0, 1.0), [(-5.0, 5.0), (-5.0, 5.0)], var\"#39#40\"())"
      ]
     },
     "metadata": {},
     "output_type": "display_data"
    }
   ],
   "source": [
    "focal_length = 2.0  # Focal length of the paraboloid\n",
    "hem_radius = 4.0  # Radius of the hemispherical boundary\n",
    "bound_radius = 4.5\n",
    "x_range = (-5.0, 5.0)  # X range\n",
    "y_range = (-5.0, 5.0)  # Y range\n",
    "nx = 50 # number of points along x\n",
    "ny = 50 # number of points along y\n",
    "num_sn = 100 # number of surface normals\n",
    "identity_matrix = rotation_matrix([0.0, 0.0, 1.0], 0.0) \n",
    "rotx_matrix = rotation_matrix([1.0, 0.0, 0.0], π/4.0) \n",
    "roty45_matrix = rotation_matrix([0.0, 1.0, 0.0], -π/4.0) \n",
    "flip_matrix = rotation_matrix([1.0, 0.0, 0.0], π*1.0) \n",
    "\n",
    "labframe = Frame([0.0,10.0,0.0], identity_matrix)\n",
    "objframe = Frame([10.0,0.0,0.0], rotx_matrix)\n",
    "objframe2 = Frame([0.0,-5.0,0.0], roty45_matrix)\n",
    "objframe3 = Frame([0.0,-5.0,0.0], flip_matrix)\n",
    "bounds = [x_range, y_range]\n",
    "\n",
    "parasurface = ImplicitSurface(\n",
    "    labframe, \n",
    "    shape_paraboloid([0.0, 0.0, 0.0], focal_length), \n",
    "    bounds,\n",
    "    border_circle(bound_radius))\n",
    "\n",
    "    \n",
    "parasurface = ImplicitSurface(\n",
    "    labframe, \n",
    "    shape_paraboloid([0.0, 0.0, 0.0], focal_length), \n",
    "    bounds,\n",
    "    border_circle(bound_radius))\n",
    "    \n",
    "hemisurface = ImplicitSurface(\n",
    "    objframe, \n",
    "    # shape_paraboloid([0.0, 0.0, 0.0], focal_length), \n",
    "    shape_hemisphere([0.0, 0.0, 0.0], hem_radius), \n",
    "    bounds,\n",
    "    border_circle(bound_radius))\n",
    "\n",
    "coneflatsurface = ImplicitSurface(\n",
    "    objframe2,\n",
    "    shape_coneflat([0.0, 0.0, -5.0], 4.0, 2.0, π/180*30),\n",
    "    bounds,\n",
    "    border_bounds()\n",
    "    # border_circle([0.0, 0.0], bound_radius)\n",
    "    )\n",
    "\n",
    "flatsurfarce1 = ImplicitSurface(\n",
    "    objframe2, \n",
    "    # objframe,\n",
    "    shape_plane([0.0, 0.0, 5.0]),\n",
    "    bounds,\n",
    "    border_bounds()\n",
    "    # border_circle([0.0, 0.0], bound_radius)\n",
    "    )\n",
    "\n",
    "mhatsurface = ImplicitSurface(\n",
    "    objframe3, \n",
    "    shape_mexican_hat([0.0, 0.0, 10.0], 4.0, 1.0, 1.0),\n",
    "    bounds,\n",
    "    border_bounds())\n",
    "\n",
    "\n",
    "# # plot the surfaces using plotly--------\n",
    "# plottraces = vcat(\n",
    "#     draw_surface(parasurface, nx, ny),\n",
    "#     draw_snormals(parasurface, num_sn),\n",
    "#     draw_surface(hemisurface, nx, ny),\n",
    "#     draw_snormals(hemisurface, num_sn),\n",
    "#     draw_surface(coneflatsurface, nx, ny),\n",
    "#     draw_snormals(coneflatsurface, num_sn),\n",
    "#     draw_surface(flatsurfarce1, nx, ny),\n",
    "#     draw_snormals(flatsurfarce1, num_sn),\n",
    "#     draw_surface(mhatsurface, nx, ny),\n",
    "#     draw_snormals(mhatsurface, num_sn)\n",
    "# )\n",
    "\n",
    "\n",
    "# layout = Layout(\n",
    "#     title=\"Surface Plot\",\n",
    "#     width=800,   # Set width in pixels\n",
    "#     height=600,  # Set height in pixels\n",
    "#     scene=attr(\n",
    "#         xaxis=attr(visible=false, showgrid=false, zeroline=false),\n",
    "#         yaxis=attr(visible=false, showgrid=false, zeroline=false),\n",
    "#         zaxis=attr(visible=false, showgrid=false, zeroline=false),\n",
    "#         bgcolor=\"rgba(0,0,0,0)\",  # Transparent background\n",
    "#         aspectmode=\"data\"\n",
    "#     ),\n",
    "#     paper_bgcolor=\"rgba(0,0,0,0)\",  # Transparent outer background\n",
    "#     showlegend=false\n",
    "# )\n",
    "\n",
    "# # Display the plot\n",
    "# fig = plot(plottraces , layout);\n",
    "# display(fig)"
   ]
  },
  {
   "cell_type": "code",
   "execution_count": null,
   "metadata": {},
   "outputs": [
    {
     "data": {
      "text/plain": [
       "draw_trajectory (generic function with 1 method)"
      ]
     },
     "metadata": {},
     "output_type": "display_data"
    }
   ],
   "source": [
    "\n"
   ]
  },
  {
   "cell_type": "code",
   "execution_count": null,
   "metadata": {},
   "outputs": [
    {
     "data": {
      "text/plain": [
       "hit (generic function with 2 methods)"
      ]
     },
     "metadata": {},
     "output_type": "display_data"
    }
   ],
   "source": [
    "\n",
    "\n",
    "\n",
    "\n",
    "\n"
   ]
  },
  {
   "cell_type": "code",
   "execution_count": 5,
   "metadata": {},
   "outputs": [
    {
     "name": "stdout",
     "output_type": "stream",
     "text": [
      "Transmittance: 0.9977324263038548\n",
      "Transmitted: [0.0, 0.0, -1.0]\n",
      "Reflectance: 0.0022675736961451256\n",
      "Reflected: [0.0, 0.0, 1.0]\n"
     ]
    }
   ],
   "source": [
    "normal = [0.0, 0.0, 1.0]\n",
    "incident = [0.0, 0.0, -1.0]\n",
    "incident = normalize(incident)\n",
    "n1, n2 = 1.0, 1.1\n",
    "# n2, n1 = 1.0, 2.4\n",
    "# ray_refracted = refract(normal, incident, n1, n2)\n",
    "# bigr = reflectance(normal, incident, n1, n2)\n",
    "# println(\"Reflectance: \", bigr)\n",
    "# println(\"Refracted: \", ray_refracted)\n",
    "bigt, refracted, bigr, reflected = fresnel(normal, incident, n1, n2)\n",
    "println(\"Transmittance: \", bigt)\n",
    "println(\"Transmitted: \", refracted)\n",
    "println(\"Reflectance: \", bigr)\n",
    "println(\"Reflected: \", reflected)"
   ]
  },
  {
   "cell_type": "code",
   "execution_count": null,
   "metadata": {},
   "outputs": [
    {
     "data": {
      "text/plain": [
       "scatter (generic function with 4 methods)"
      ]
     },
     "metadata": {},
     "output_type": "display_data"
    }
   ],
   "source": [
    "\n"
   ]
  },
  {
   "cell_type": "code",
   "execution_count": null,
   "metadata": {},
   "outputs": [
    {
     "data": {
      "text/plain": [
       "propagate_ray! (generic function with 2 methods)"
      ]
     },
     "metadata": {},
     "output_type": "display_data"
    }
   ],
   "source": []
  },
  {
   "cell_type": "code",
   "execution_count": 8,
   "metadata": {},
   "outputs": [
    {
     "data": {
      "text/plain": [
       "PointSource([0.0, 0.0, 0.0], 1.0, var\"#13#15\"{var\"#sample_direction#14\"}(var\"#sample_direction#14\"()))"
      ]
     },
     "metadata": {},
     "output_type": "display_data"
    }
   ],
   "source": [
    "center_ps = [0.0, 0.0, 0.0]\n",
    "psource = PointSource(\n",
    "    center_ps, \n",
    "    1.0, \n",
    "    isotropic_distribution())"
   ]
  },
  {
   "cell_type": "code",
   "execution_count": 9,
   "metadata": {},
   "outputs": [
    {
     "data": {
      "text/plain": [
       "BoundObject(Frame([0.0, 0.0, -499.5], [1.0 0.0 0.0; 0.0 -1.0 -1.2246467991473532e-16; 0.0 1.2246467991473532e-16 -1.0]), Surface[ImplicitSurface(Frame([0.0, 0.0, 0.0], [1.0 0.0 0.0; 0.0 1.0 0.0; 0.0 0.0 1.0]), var\"#21#22\"{Vector{Float64}}([0.0, 0.0, 0.0]), [(-525.0, 525.0), (-525.0, 525.0)], var\"#35#36\"{Float64}(500.0)), ImplicitSurface(Frame([0.0, 0.0, 0.0], [1.0 0.0 0.0; 0.0 1.0 0.0; 0.0 0.0 1.0]), var\"#25#27\"{var\"#result#26\"{Vector{Float64}, Float64}}(var\"#result#26\"{Vector{Float64}, Float64}([0.0, 0.0, -331.66247903554], 600.0)), [(-525.0, 525.0), (-525.0, 525.0)], var\"#35#36\"{Float64}(500.0))], Dielectric(1.4, 0.0), [(-525.0, 525.0), (-525.0, 525.0), (-525.0, 525.0), (-1.0, 102.0)])"
      ]
     },
     "metadata": {},
     "output_type": "display_data"
    }
   ],
   "source": [
    "# Draw the diamond with a microconcentrator -------------------------------------------------------------------------------------\n",
    "deg = π/180.0\n",
    "lx = 2000.0\n",
    "ly = 2000.0\n",
    "tt = 500.0\n",
    "h_cone = 10.0\n",
    "r_cone = 10.0\n",
    "θ_cone = 30.0*deg\n",
    "r_conebottom = r_cone+h_cone*tan(θ_cone)\n",
    "bounds_xy = [(-lx/2.0, lx/2.0), (-ly/2.0, ly/2.0)]\n",
    "\n",
    "cen000 = [0.0, 0.0, 0.0]\n",
    "borderbds = border_bounds()\n",
    "rm_eye = rotation_matrix([0.0, 0.0, 1.0], 0.0) \n",
    "rm_xflip = rotation_matrix([1.0, 0.0, 0.0], 1.0*π)\n",
    "rm_xp90 = rotation_matrix([1.0, 0.0, 0.0], 0.5*π)\n",
    "rm_xn90 = rotation_matrix([1.0, 0.0, 0.0], -0.5*π)\n",
    "\n",
    "rm_yflip = rotation_matrix([0.0, 1.0, 0.0], 1.0*π)\n",
    "rm_yp90 = rotation_matrix([0.0, 1.0, 0.0], 0.5*π)\n",
    "rm_yn90 = rotation_matrix([0.0, 1.0, 0.0], -0.5*π)\n",
    "\n",
    "sf_coneflat = ImplicitSurface(\n",
    "    Frame(cen000+[0.0, 0.0, tt/2.0-h_cone], rm_eye),\n",
    "    shape_coneflat(cen000, h_cone, r_cone, θ_cone),\n",
    "    bounds_xy,\n",
    "    border_circle(r_conebottom)\n",
    "    )\n",
    "\n",
    "sf_top = ImplicitSurface(\n",
    "    Frame(cen000+[0.0, 0.0, tt/2.0-h_cone], rm_eye),\n",
    "    shape_plane(cen000),\n",
    "    bounds_xy,\n",
    "    border_outcircle(r_cone+h_cone*tan(θ_cone))\n",
    "    )\n",
    "\n",
    "sf_bottom = ImplicitSurface(\n",
    "    Frame(cen000+[0.0, 0.0, -tt/2.0], rm_xflip),\n",
    "    shape_plane(cen000),\n",
    "    bounds_xy,\n",
    "    borderbds,\n",
    "    # border_circle([0.0, 0.0], bound_radius)\n",
    "    )\n",
    "\n",
    "sf_side_r = ImplicitSurface(\n",
    "    Frame(cen000+[lx/2.0, 0.0, 0.0], rm_yp90),\n",
    "    shape_plane(cen000),\n",
    "    [(-tt/2.0+h_cone, tt/2.0), (-ly/2.0, ly/2.0)],\n",
    "    borderbds\n",
    "    # border_circle([0.0, 0.0], bound_radius)\n",
    "    )\n",
    "\n",
    "sf_side_l = ImplicitSurface(\n",
    "    Frame(cen000+[-lx/2.0, 0.0, 0.0], rm_yn90),\n",
    "    shape_plane(cen000),\n",
    "    [(-tt/2.0, tt/2.0-h_cone), (-ly/2.0, ly/2.0)],\n",
    "    borderbds\n",
    "    # border_circle([0.0, 0.0], bound_radius)\n",
    "    )\n",
    "\n",
    "sf_side_f = ImplicitSurface(\n",
    "    Frame(cen000+[0.0, ly/2.0, 0.0], rm_xn90),\n",
    "    shape_plane(cen000),\n",
    "    [ (-lx/2.0, lx/2.0), (-tt/2.0+h_cone, tt/2.0)],\n",
    "    borderbds\n",
    "    # border_circle([0.0, 0.0], bound_radius)\n",
    "    )\n",
    "\n",
    "sf_side_b = ImplicitSurface(\n",
    "    Frame(cen000+[0.0, -ly/2.0, 0.0], rm_xp90),\n",
    "    shape_plane(cen000),\n",
    "    [ (-lx/2.0, lx/2.0), (-tt/2.0, tt/2.0-h_cone)],\n",
    "    borderbds\n",
    "    # border_circle([0.0, 0.0], bound_radius)\n",
    "    )\n",
    "\n",
    "box_surfaces = [sf_coneflat, sf_top, sf_bottom, sf_side_r, sf_side_l, sf_side_f, sf_side_b]\n",
    "\n",
    "nv_depth = 0.5\n",
    "center_rectbox = [0.0, 0.0, -tt/2.0+nv_depth]\n",
    "n_diamond = 2.4\n",
    "diamond = Dielectric(n_diamond)\n",
    "diamond_ib_heavy = Dielectric(n_diamond, 50.0E-4)  # assumed ~50/cm, https://doi.org/10.1098/rsta.2022.0314\n",
    "diamond_ib_mild = Dielectric(n_diamond, 10.0E-4)  # assumed ~50/cm, https://doi.org/10.1098/rsta.2022.0314\n",
    "diamond_iia = Dielectric(n_diamond, 0.1E-4)  # assumed ~50/cm, https://doi.org/10.1098/rsta.2022.0314\n",
    "air = Dielectric(1.0)\n",
    "bounds_xyz = [(-lx/2.0, lx/2.0), (-ly/2.0, ly/2.0), (-tt/2.0, tt/2.0)] # bounds relative to center\n",
    "\n",
    "rectbox = BoundObject(\n",
    "    Frame(center_rectbox, rm_eye),\n",
    "    box_surfaces,\n",
    "    diamond_ib_mild,\n",
    "    bounds_xyz\n",
    ");\n",
    "\n",
    "\n",
    "# Construct solid immersion lens ---------------------------------------------------------------------------------------\n",
    "n_PDMS = 1.4\n",
    "pdms = Dielectric(n_PDMS)\n",
    "\n",
    "# sepc from MLA300-14AR\n",
    "p_sil = 300.0\n",
    "r_sil = p_sil/2.0\n",
    "R_sil = 6500.0\n",
    "z_sil = sqrt(R_sil^2-r_sil^2) \n",
    "\n",
    "# sepc from https://www.edmundoptics.com/p/microlens-array-10-x-10mm-500mum-pitch-12deg-divergence/19191/\n",
    "p_sil = 500.0\n",
    "r_sil = p_sil/2.0\n",
    "R_sil = 6300.0\n",
    "z_sil = sqrt(R_sil^2-r_sil^2) \n",
    "\n",
    "\n",
    "# sepc from https://www.edmundoptics.com/p/microlens-array-10-x-10mm-300mum-pitch-2deg-divergence-c035d946/29141/\n",
    "p_sil = 300.0\n",
    "r_sil = p_sil/2.0\n",
    "R_sil = 2200.0\n",
    "z_sil = sqrt(R_sil^2-r_sil^2) \n",
    "\n",
    "# fake sepc \n",
    "p_sil = 1000.0\n",
    "r_sil = p_sil/2.0\n",
    "R_sil = 600.0\n",
    "z_sil = sqrt(R_sil^2-r_sil^2) \n",
    "\n",
    "sf_sil_cap = ImplicitSurface(\n",
    "    Frame(cen000, rm_eye), \n",
    "    shape_hemisphere([0.0, 0.0, -z_sil], R_sil),\n",
    "    [(-r_sil*1.05, r_sil*1.05), (-r_sil*1.05, r_sil*1.05)],\n",
    "    border_circle(r_sil)\n",
    ")\n",
    "\n",
    "sf_sil_base = ImplicitSurface(\n",
    "    Frame(cen000, rm_eye), \n",
    "    shape_plane([0.0, 0.0, 0.0]),\n",
    "    [(-r_sil*1.05, r_sil*1.05), (-r_sil*1.05, r_sil*1.05)],\n",
    "    border_circle(r_sil)\n",
    ")\n",
    "\n",
    "\n",
    "silcap = BoundObject(\n",
    "    Frame(center_rectbox+[0.0, 0.0, -tt/2.0], rm_xflip), \n",
    "    [sf_sil_base, sf_sil_cap], \n",
    "    pdms, \n",
    "    [(-r_sil*1.05, r_sil*1.05), (-r_sil*1.05, r_sil*1.05), (-r_sil*1.05, r_sil*1.05), (-1.0, R_sil-tt+2.0)]\n",
    ")\n",
    "\n",
    "# Construct a  film---------------------------------------------------------------------"
   ]
  },
  {
   "cell_type": "code",
   "execution_count": 10,
   "metadata": {},
   "outputs": [
    {
     "data": {
      "text/plain": [
       "BoundObject(Frame([0.0, 0.0, -249.5], [1.0 0.0 0.0; 0.0 1.0 0.0; 0.0 0.0 1.0]), Surface[ImplicitSurface(Frame([0.0, 0.0, 0.0], [1.0 0.0 0.0; 0.0 1.0 0.0; 0.0 0.0 1.0]), var\"#23#24\"{Vector{Float64}, Float64}([0.0, 0.0, 0.0], 4763.402145525822), [(-5001.572252802113, 5001.572252802113), (-5001.572252802113, 5001.572252802113)], var\"#39#40\"())], Dielectric(1.0, 0.0), [(-5001.572252802113, 5001.572252802113), (-5001.572252802113, 5001.572252802113), (-5001.572252802113, 5001.572252802113)])"
      ]
     },
     "metadata": {},
     "output_type": "display_data"
    }
   ],
   "source": [
    "# construct a focal plane to record the ray field --------------------------------------------------------------------------------\n",
    "# https://www.edmundoptics.com/p/olympus-mxplfln-50x-objective/49918/\n",
    "wd = 3000.0\n",
    "na = 0.8\n",
    "radius_fp = 1500.0*tan(asin(0.8))\n",
    "\n",
    "zz_fp = tt*diamond.n+(wd-tt) - tt/2.0 # measured from the bottom of the diamond\n",
    "# zz_fp = 1000.0 # measured from the bottom of the diamond\n",
    "lx_fp = radius_fp*2.5\n",
    "ly_fp = radius_fp*2.5\n",
    "bounds_xy_fp =  [(-lx_fp/2.0, lx_fp/2.0), (-ly_fp/2.0, ly_fp/2.0)]\n",
    "bigfactor = 1.5\n",
    "bounds_xy_bigplane = [(-bigfactor*lx_fp/2.0, bigfactor*lx_fp/2.0), (-bigfactor*ly_fp/2.0, bigfactor*ly_fp/2.0)]\n",
    "\n",
    "sf_fplane = ImplicitSurface(\n",
    "    Frame(cen000, rm_eye),\n",
    "    shape_plane(cen000),\n",
    "    bounds_xy_fp,\n",
    "    border_circle(radius_fp)\n",
    "    )\n",
    "\n",
    "sf_bigplane = ImplicitSurface(\n",
    "    Frame(cen000, rm_eye),\n",
    "    shape_plane(cen000),\n",
    "    bounds_xy_bigplane,\n",
    "    border_circle(radius_fp*bigfactor)\n",
    "    )\n",
    "\n",
    "fplane = BoundObject(\n",
    "    Frame(center_rectbox+[0.0, 0.0, -tt/2.0-zz_fp], rm_eye),\n",
    "    [sf_fplane],\n",
    "    air,\n",
    "    [(-lx_fp/2.0, lx_fp/2.0), (-ly_fp/2.0, ly_fp/2.0), (-2.0, 2.0)] # bounds relative to center\n",
    ");\n",
    "\n",
    "bigplane = BoundObject(\n",
    "    Frame(center_rectbox+[0.0, 0.0, -tt/2.0-zz_fp], rm_eye),\n",
    "    [sf_bigplane],\n",
    "    air,\n",
    "    vcat(bounds_xy_bigplane, [(-2.0, 2.0)]) # bounds relative to center\n",
    ");\n",
    "\n",
    "# --------------------------------------------------------------------------------------------------------------------------\n",
    "\n",
    "# construct celestial sphere  -------------------------------------------------------------------------------------------\n",
    "r_cele = sqrt((radius_fp*bigfactor)^2 + (zz_fp+tt/2.0)^2)\n",
    "r_cele_bound = r_cele*1.05\n",
    "sf_sphere = ImplicitSurface(\n",
    "    Frame(cen000, rm_eye), \n",
    "    shape_sphere(cen000, r_cele), \n",
    "    [(-r_cele_bound, r_cele_bound), (-r_cele_bound, r_cele_bound)],\n",
    "    borderbds\n",
    ")\n",
    "\n",
    "sf_hemi_t = ImplicitSurface(\n",
    "    Frame(cen000, rm_eye), \n",
    "    shape_hemisphere(cen000, r_cele), \n",
    "    [(-r_cele_bound, r_cele_bound), (-r_cele_bound, r_cele_bound)],\n",
    "    border_circle(r_cele)\n",
    ")\n",
    "sf_hemi_b = ImplicitSurface(\n",
    "    Frame(cen000, rm_xflip), \n",
    "    shape_hemisphere(cen000, r_cele), \n",
    "    [(-r_cele_bound, r_cele_bound), (-r_cele_bound, r_cele_bound)],\n",
    "    border_circle(r_cele)\n",
    ")\n",
    "celestial = BoundObject(\n",
    "    Frame(center_rectbox, rm_eye), \n",
    "    [sf_hemi_t, sf_hemi_b], \n",
    "    air, \n",
    "    [(-r_cele*1.05, r_cele*1.05), (-r_cele*1.05, r_cele*1.05), (-r_cele*1.05, r_cele*1.05)]\n",
    ")\n",
    "\n",
    "celestial_sphere = BoundObject(\n",
    "    Frame(center_rectbox, rm_eye), \n",
    "    [sf_sphere], \n",
    "    air, \n",
    "    [(-r_cele*1.05, r_cele*1.05), (-r_cele*1.05, r_cele*1.05), (-r_cele*1.05, r_cele*1.05)]\n",
    ")\n",
    "# --------------------------------------------------------------------------------------------------------------------------\n"
   ]
  },
  {
   "cell_type": "code",
   "execution_count": 11,
   "metadata": {},
   "outputs": [],
   "source": [
    "\n",
    "num_sx = 100 # number of points along x\n",
    "num_sy = 100 # number of points along y\n",
    "num_sn = 0 # number of surface normals\n",
    "traces_objects = draw_object(rectbox, num_sx, num_sy, num_sn; color_sf=\"rgba(241, 248, 108, 0.3)\", display=false);\n",
    "\n",
    "trace_fp = draw_object(fplane, num_sx, num_sy, num_sn; color_sf=\"rgba(200, 180, 160, 0.8)\", display=false);\n",
    "# trace_bigp = draw_object(bigplane, num_sx, num_sy, num_sn; color_sf=\"rgba(150, 160, 160, 0.5)\", display=false);\n",
    "trace_cele = draw_object(celestial, num_sx, num_sy, num_sn; color_sf=\"rgba(160, 180, 160, 0.05)\", display=false);\n",
    "trace_sil = draw_object(silcap, num_sx, num_sy, num_sn; color_sf=\"rgba(150, 160, 190, 0.3)\", display=false);\n",
    "append!(traces_objects, trace_fp);\n",
    "# append!(traces_objects, trace_bigp);\n",
    "append!(traces_objects, trace_cele);\n",
    "append!(traces_objects, trace_sil);"
   ]
  },
  {
   "cell_type": "code",
   "execution_count": 12,
   "metadata": {},
   "outputs": [
    {
     "data": {
      "text/plain": [
       "0.01"
      ]
     },
     "metadata": {},
     "output_type": "display_data"
    }
   ],
   "source": [
    "size_bundle = 1000\n",
    "raybundle = emit_rays(psource, size_bundle)\n",
    "# raybundle = [Ray([0.0, 0.0, 0.0], [-0.2353434340034519, 0.3379130217399479, -0.9112783646120654])]\n",
    "objects = [rectbox, silcap, fplane, celestial_sphere]\n",
    "# objects = [rectbox]\n",
    "# objects = [fplane]\n",
    "wavelength = 1.0\n",
    "threshold = 0.01"
   ]
  },
  {
   "cell_type": "code",
   "execution_count": 13,
   "metadata": {},
   "outputs": [],
   "source": [
    "trajectories = Trajectory[]\n",
    "Threads.@threads for ray in raybundle\n",
    "    tjroot = TrajectoryNode(ray, [])\n",
    "    trajectory = Trajectory(tjroot)\n",
    "    amp_terminate = threshold*ray.amplitude\n",
    "    # put the generate rays go back to this step\n",
    "    # say define a function call propate_ray!\n",
    "    hitrecord_shortest = Vector{Union{Nothing, HitRecord}}(nothing, 2)\n",
    "    propagate_ray!(objects, ray, hitrecord_shortest, tjroot, 0;t_min=1e-6, t_max=1e6, amp_terminate=amp_terminate)\n",
    "    push!(trajectories, trajectory)\n",
    "end"
   ]
  },
  {
   "cell_type": "code",
   "execution_count": 14,
   "metadata": {},
   "outputs": [],
   "source": [
    "traces_trajectories = GenericTrace[]\n",
    "for tj in trajectories\n",
    "    trace_tj = draw_trajectory(tj; color=\"rgba(255,0,0,1)\", sizemode=\"fixed\", draw_cone=false, display=false)\n",
    "    append!(traces_trajectories, trace_tj)\n",
    "end"
   ]
  },
  {
   "cell_type": "code",
   "execution_count": 15,
   "metadata": {},
   "outputs": [
    {
     "data": {
      "text/plain": [
       "Process(`\u001b[4mcmd\u001b[24m \u001b[4m/c\u001b[24m \u001b[4mstart\u001b[24m \u001b[4mplot77.html\u001b[24m`, ProcessExited(0))"
      ]
     },
     "metadata": {},
     "output_type": "display_data"
    }
   ],
   "source": [
    "\n",
    "layout = PlotlyJS.Layout(\n",
    "title=\"Ray Trajectories\",\n",
    "width=800,   # Set width in pixels\n",
    "height=600,  # Set height in pixels\n",
    "scene=attr(\n",
    "    xaxis=attr(visible=false, showgrid=false, zeroline=false),\n",
    "    yaxis=attr(visible=false, showgrid=false, zeroline=false),\n",
    "    zaxis=attr(visible=false, showgrid=false, zeroline=false),\n",
    "    bgcolor=\"rgba(255,255,255,1)\", \n",
    "    aspectmode=\"data\"\n",
    "),\n",
    "paper_bgcolor=\"rgba(255,255,255,1)\", \n",
    "showlegend=false\n",
    ")\n",
    "\n",
    "# Display the plot\n",
    "fig = PlotlyJS.plot(vcat(traces_objects, traces_trajectories), layout);\n",
    "PlotlyJS.savefig(fig, \"plot77.html\")  # Save as interactive HTML\n",
    "run(`cmd /c start \"plot77.html\"`)  # Windows\n",
    "# PlotlyJS.display(fig)"
   ]
  },
  {
   "cell_type": "markdown",
   "metadata": {},
   "source": []
  }
 ],
 "metadata": {
  "kernelspec": {
   "display_name": "Julia 1.11.3",
   "language": "julia",
   "name": "julia-1.11"
  },
  "language_info": {
   "file_extension": ".jl",
   "mimetype": "application/julia",
   "name": "julia",
   "version": "1.11.3"
  }
 },
 "nbformat": 4,
 "nbformat_minor": 2
}

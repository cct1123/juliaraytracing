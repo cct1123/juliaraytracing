{
 "cells": [
  {
   "cell_type": "code",
   "execution_count": null,
   "metadata": {},
   "outputs": [
    {
     "data": {
      "text/plain": [
       "plot_trajectory (generic function with 1 method)"
      ]
     },
     "metadata": {},
     "output_type": "display_data"
    }
   ],
   "source": [
    "using PlotlyJS\n",
    "\n",
    "# Define 3D point and direction as Vector{Float64}\n",
    "const Vec3 = Vector{Float64}\n",
    "const Vec2 = Vector{Float64}\n",
    "const Point = Vec3\n",
    "const Direction = Vec3\n",
    "\n",
    "mutable struct Ray\n",
    "    origin::Point\n",
    "    direction::Direction\n",
    "    amplitude::Float64  # New amplitude property\n",
    "end\n",
    "\n",
    "mutable struct TrajectoryNode\n",
    "    ray::Ray\n",
    "    children::Vector{TrajectoryNode}\n",
    "end\n",
    "\n",
    "mutable struct Trajectory\n",
    "    root::TrajectoryNode\n",
    "end\n",
    "\n",
    "function add_child!(parent::TrajectoryNode, child::Ray)\n",
    "    push!(parent.children, TrajectoryNode(child, []))\n",
    "end\n",
    "\n",
    "# Function to recursively generate rays (simulating reflection/refraction)\n",
    "function generate_rays!(node::TrajectoryNode, depth::Int, spread_factor::Float64=0.7)\n",
    "    if depth == 0\n",
    "        return\n",
    "    end\n",
    "\n",
    "    ray = node.ray\n",
    "    hit_point = ray.origin .+ ray.direction  # Compute the new hit point\n",
    "    new_amplitude = ray.amplitude * spread_factor  # Reduce amplitude for child rays\n",
    "\n",
    "    # Generate two new rays at the hit point\n",
    "    reflected = Ray(hit_point, [-ray.direction[1] * spread_factor, ray.direction[2], ray.direction[3] * spread_factor], new_amplitude)\n",
    "    refracted = Ray(hit_point, [ray.direction[1] * spread_factor, -ray.direction[2] * spread_factor, ray.direction[3]], new_amplitude)\n",
    "\n",
    "    # Add child rays\n",
    "    reflected_node = TrajectoryNode(reflected, [])\n",
    "    refracted_node = TrajectoryNode(refracted, [])\n",
    "\n",
    "    push!(node.children, reflected_node, refracted_node)\n",
    "\n",
    "    # Recursively generate more rays\n",
    "    generate_rays!(reflected_node, depth - 1, spread_factor)\n",
    "    generate_rays!(refracted_node, depth - 1, spread_factor)\n",
    "end\n",
    "\n",
    "# Function to extract ray segments for plotting\n",
    "function extract_ray_segments(node::TrajectoryNode, segments::Vector{Tuple{Point, Point, Float64}})\n",
    "    ray = node.ray\n",
    "    endpoint = ray.origin .+ ray.direction  # Compute the endpoint\n",
    "\n",
    "    push!(segments, (ray.origin, endpoint, ray.amplitude))\n",
    "\n",
    "    for child in node.children\n",
    "        extract_ray_segments(child, segments)\n",
    "    end\n",
    "end\n",
    "\n",
    "# Function to normalize amplitudes to [0,1] for opacity scaling\n",
    "function normalize_amplitudes(segments)\n",
    "    max_amp = maximum(abs(seg[3]) for seg in segments)\n",
    "    min_amp = minimum(abs(seg[3]) for seg in segments)\n",
    "    return [(seg[1], seg[2], (seg[3] - min_amp) / (max_amp - min_amp + 1e-6)) for seg in segments]\n",
    "end\n",
    "\n",
    "function set_opacity_in_rgba(rgba_string::String, opacity::Float64)\n",
    "    # Remove \"rgba()\" and split the string by commas\n",
    "    rgb_values = match(r\"rgba\\((\\d+),\\s*(\\d+),\\s*(\\d+),\\s*(\\d*\\.?\\d+)\\)\", rgba_string).captures\n",
    "\n",
    "    # Extract RGB values and convert to integers\n",
    "    r = parse(Int, rgb_values[1])\n",
    "    g = parse(Int, rgb_values[2])\n",
    "    b = parse(Int, rgb_values[3])\n",
    "\n",
    "    # Construct the new RGBA string with user-defined opacity\n",
    "    new_rgba = \"rgba($r, $g, $b, $opacity)\"\n",
    "    \n",
    "    return new_rgba\n",
    "end\n",
    "\n",
    "# Function to convert amplitude to RGBA color (blue with variable opacity)\n",
    "function amplitude_to_rgba(amplitude::Float64; color::String=\"rgba(255, 255, 0, 1)\")\n",
    "    min_opacity = 0.1  # Minimum visibility\n",
    "    max_opacity = 1.0  # Fully visible\n",
    "    alpha = min_opacity + (max_opacity - min_opacity) * amplitude\n",
    "    return set_opacity_in_rgba(color, alpha)\n",
    "end\n",
    "\n",
    "# Function to plot the trajectory using Plotly\n",
    "function plot_trajectory(trajectory::Trajectory; color=\"rgba(255, 255, 0, 1)\", arrow_scale=0.1, display::Bool=true)    \n",
    "    segments = Tuple{Point, Point, Float64}[]\n",
    "    extract_ray_segments(trajectory.root, segments)\n",
    "\n",
    "    # Normalize amplitude for opacity scaling\n",
    "    segments = normalize_amplitudes(segments)\n",
    "\n",
    "    traces = GenericTrace[]\n",
    "\n",
    "    # Loop through each segment (ray) to plot rays and cones (arrows)\n",
    "    for (i, (start_point, end_point, norm_amplitude)) in enumerate(segments)\n",
    "        rgba_color = amplitude_to_rgba(norm_amplitude; color=color)  # Convert amplitude to RGBA color\n",
    "\n",
    "        # Ray trace\n",
    "        push!(traces, scatter3d(\n",
    "            x=[start_point[1], end_point[1]], \n",
    "            y=[start_point[2], end_point[2]], \n",
    "            z=[start_point[3], end_point[3]], \n",
    "            mode=\"lines\",\n",
    "            line=attr(width=3, color=rgba_color),  # Apply RGBA color\n",
    "            showlegend=false,\n",
    "        ))\n",
    "\n",
    "        # Add cone at the endpoint of the ray (arrow visualization)\n",
    "        # Direction vector from the ray origin to the endpoint\n",
    "        direction = [end_point[1] - start_point[1], end_point[2] - start_point[2], end_point[3] - start_point[3]]\n",
    "\n",
    "        # Cone trace, head at the endpoint\n",
    "        cone_trace = cone(\n",
    "            x=[end_point[1]], y=[end_point[2]], z=[end_point[3]],  # Head of the cone at the endpoint\n",
    "            u=[direction[1]], v=[direction[2]], w=[direction[3]],  # Direction vector (from the origin to the endpoint)\n",
    "            sizemode=\"raw\",\n",
    "            sizeref=arrow_scale,  # Controls arrow size\n",
    "            anchor=\"tip\",  # Position the cone head at the endpoint\n",
    "            showscale=false,\n",
    "            colorscale=[(0, rgba_color), (1, rgba_color)],  # Set the same color as the ray\n",
    "        )\n",
    "        \n",
    "        push!(traces, cone_trace)\n",
    "    end\n",
    "\n",
    "\n",
    "    if display\n",
    "        layout = PlotlyJS.Layout(\n",
    "        title=\"Box Surface Plot\",\n",
    "        width=800,   # Set width in pixels\n",
    "        height=600,  # Set height in pixels\n",
    "        scene=attr(\n",
    "            xaxis=attr(visible=false, showgrid=false, zeroline=false),\n",
    "            yaxis=attr(visible=false, showgrid=false, zeroline=false),\n",
    "            zaxis=attr(visible=false, showgrid=false, zeroline=false),\n",
    "            bgcolor=\"rgba(255,255,255,1)\", \n",
    "            aspectmode=\"data\"\n",
    "        ),\n",
    "        paper_bgcolor=\"rgba(255,255,255,1)\", \n",
    "        showlegend=false\n",
    "        )\n",
    "        \n",
    "        # Display the plot\n",
    "        fig = PlotlyJS.plot(traces , layout);\n",
    "        PlotlyJS.display(fig)   \n",
    "        return NaN\n",
    "    else\n",
    "        return traces\n",
    "    end\n",
    "end\n",
    "\n"
   ]
  },
  {
   "cell_type": "code",
   "execution_count": 97,
   "metadata": {},
   "outputs": [
    {
     "data": {
      "application/vnd.plotly.v1+json": {
       "config": {
        "editable": false,
        "responsive": true,
        "scrollZoom": true,
        "showLink": false,
        "staticPlot": false
       },
       "data": [
        {
         "line": {
          "color": "rgba(255, 0, 0, 0.9999986301390713)",
          "width": 3
         },
         "mode": "lines",
         "showlegend": false,
         "type": "scatter3d",
         "x": [
          0,
          1
         ],
         "y": [
          0,
          1
         ],
         "z": [
          0,
          1
         ]
        },
        {
         "anchor": "tip",
         "colorscale": [
          [
           0,
           "rgba(255, 0, 0, 0.9999986301390713)"
          ],
          [
           1,
           "rgba(255, 0, 0, 0.9999986301390713)"
          ]
         ],
         "showscale": false,
         "sizemode": "raw",
         "sizeref": 0.1,
         "type": "cone",
         "u": [
          1
         ],
         "v": [
          1
         ],
         "w": [
          1
         ],
         "x": [
          1
         ],
         "y": [
          1
         ],
         "z": [
          1
         ]
        },
        {
         "line": {
          "color": "rgba(255, 0, 0, 0.5890403515367557)",
          "width": 3
         },
         "mode": "lines",
         "showlegend": false,
         "type": "scatter3d",
         "x": [
          1,
          0.30000000000000004
         ],
         "y": [
          1,
          2
         ],
         "z": [
          1,
          1.7
         ]
        },
        {
         "anchor": "tip",
         "colorscale": [
          [
           0,
           "rgba(255, 0, 0, 0.5890403515367557)"
          ],
          [
           1,
           "rgba(255, 0, 0, 0.5890403515367557)"
          ]
         ],
         "showscale": false,
         "sizemode": "raw",
         "sizeref": 0.1,
         "type": "cone",
         "u": [
          -0.7
         ],
         "v": [
          1
         ],
         "w": [
          0.7
         ],
         "x": [
          0.30000000000000004
         ],
         "y": [
          2
         ],
         "z": [
          1.7
         ]
        },
        {
         "line": {
          "color": "rgba(255, 0, 0, 0.3013695565151347)",
          "width": 3
         },
         "mode": "lines",
         "showlegend": false,
         "type": "scatter3d",
         "x": [
          0.30000000000000004,
          0.79
         ],
         "y": [
          2,
          3
         ],
         "z": [
          1.7,
          2.19
         ]
        },
        {
         "anchor": "tip",
         "colorscale": [
          [
           0,
           "rgba(255, 0, 0, 0.3013695565151347)"
          ],
          [
           1,
           "rgba(255, 0, 0, 0.3013695565151347)"
          ]
         ],
         "showscale": false,
         "sizemode": "raw",
         "sizeref": 0.1,
         "type": "cone",
         "u": [
          0.49
         ],
         "v": [
          1
         ],
         "w": [
          0.49
         ],
         "x": [
          0.79
         ],
         "y": [
          3
         ],
         "z": [
          2.19
         ]
        },
        {
         "line": {
          "color": "rgba(255, 0, 0, 0.1)",
          "width": 3
         },
         "mode": "lines",
         "showlegend": false,
         "type": "scatter3d",
         "x": [
          0.79,
          0.4470000000000001
         ],
         "y": [
          3,
          4
         ],
         "z": [
          2.19,
          2.533
         ]
        },
        {
         "anchor": "tip",
         "colorscale": [
          [
           0,
           "rgba(255, 0, 0, 0.1)"
          ],
          [
           1,
           "rgba(255, 0, 0, 0.1)"
          ]
         ],
         "showscale": false,
         "sizemode": "raw",
         "sizeref": 0.1,
         "type": "cone",
         "u": [
          -0.3429999999999999
         ],
         "v": [
          1
         ],
         "w": [
          0.34299999999999997
         ],
         "x": [
          0.4470000000000001
         ],
         "y": [
          4
         ],
         "z": [
          2.533
         ]
        },
        {
         "line": {
          "color": "rgba(255, 0, 0, 0.1)",
          "width": 3
         },
         "mode": "lines",
         "showlegend": false,
         "type": "scatter3d",
         "x": [
          0.79,
          1.133
         ],
         "y": [
          3,
          2.3
         ],
         "z": [
          2.19,
          2.6799999999999997
         ]
        },
        {
         "anchor": "tip",
         "colorscale": [
          [
           0,
           "rgba(255, 0, 0, 0.1)"
          ],
          [
           1,
           "rgba(255, 0, 0, 0.1)"
          ]
         ],
         "showscale": false,
         "sizemode": "raw",
         "sizeref": 0.1,
         "type": "cone",
         "u": [
          0.34299999999999997
         ],
         "v": [
          -0.7000000000000002
         ],
         "w": [
          0.48999999999999977
         ],
         "x": [
          1.133
         ],
         "y": [
          2.3
         ],
         "z": [
          2.6799999999999997
         ]
        },
        {
         "line": {
          "color": "rgba(255, 0, 0, 0.3013695565151347)",
          "width": 3
         },
         "mode": "lines",
         "showlegend": false,
         "type": "scatter3d",
         "x": [
          0.30000000000000004,
          -0.1899999999999999
         ],
         "y": [
          2,
          1.3
         ],
         "z": [
          1.7,
          2.4
         ]
        },
        {
         "anchor": "tip",
         "colorscale": [
          [
           0,
           "rgba(255, 0, 0, 0.3013695565151347)"
          ],
          [
           1,
           "rgba(255, 0, 0, 0.3013695565151347)"
          ]
         ],
         "showscale": false,
         "sizemode": "raw",
         "sizeref": 0.1,
         "type": "cone",
         "u": [
          -0.48999999999999994
         ],
         "v": [
          -0.7
         ],
         "w": [
          0.7
         ],
         "x": [
          -0.1899999999999999
         ],
         "y": [
          1.3
         ],
         "z": [
          2.4
         ]
        },
        {
         "line": {
          "color": "rgba(255, 0, 0, 0.1)",
          "width": 3
         },
         "mode": "lines",
         "showlegend": false,
         "type": "scatter3d",
         "x": [
          -0.1899999999999999,
          0.15300000000000002
         ],
         "y": [
          1.3,
          0.6000000000000001
         ],
         "z": [
          2.4,
          2.8899999999999997
         ]
        },
        {
         "anchor": "tip",
         "colorscale": [
          [
           0,
           "rgba(255, 0, 0, 0.1)"
          ],
          [
           1,
           "rgba(255, 0, 0, 0.1)"
          ]
         ],
         "showscale": false,
         "sizemode": "raw",
         "sizeref": 0.1,
         "type": "cone",
         "u": [
          0.3429999999999999
         ],
         "v": [
          -0.7
         ],
         "w": [
          0.48999999999999977
         ],
         "x": [
          0.15300000000000002
         ],
         "y": [
          0.6000000000000001
         ],
         "z": [
          2.8899999999999997
         ]
        },
        {
         "line": {
          "color": "rgba(255, 0, 0, 0.1)",
          "width": 3
         },
         "mode": "lines",
         "showlegend": false,
         "type": "scatter3d",
         "x": [
          -0.1899999999999999,
          -0.5329999999999998
         ],
         "y": [
          1.3,
          1.79
         ],
         "z": [
          2.4,
          3.0999999999999996
         ]
        },
        {
         "anchor": "tip",
         "colorscale": [
          [
           0,
           "rgba(255, 0, 0, 0.1)"
          ],
          [
           1,
           "rgba(255, 0, 0, 0.1)"
          ]
         ],
         "showscale": false,
         "sizemode": "raw",
         "sizeref": 0.1,
         "type": "cone",
         "u": [
          -0.3429999999999999
         ],
         "v": [
          0.49
         ],
         "w": [
          0.6999999999999997
         ],
         "x": [
          -0.5329999999999998
         ],
         "y": [
          1.79
         ],
         "z": [
          3.0999999999999996
         ]
        },
        {
         "line": {
          "color": "rgba(255, 0, 0, 0.5890403515367557)",
          "width": 3
         },
         "mode": "lines",
         "showlegend": false,
         "type": "scatter3d",
         "x": [
          1,
          1.7
         ],
         "y": [
          1,
          0.30000000000000004
         ],
         "z": [
          1,
          2
         ]
        },
        {
         "anchor": "tip",
         "colorscale": [
          [
           0,
           "rgba(255, 0, 0, 0.5890403515367557)"
          ],
          [
           1,
           "rgba(255, 0, 0, 0.5890403515367557)"
          ]
         ],
         "showscale": false,
         "sizemode": "raw",
         "sizeref": 0.1,
         "type": "cone",
         "u": [
          0.7
         ],
         "v": [
          -0.7
         ],
         "w": [
          1
         ],
         "x": [
          1.7
         ],
         "y": [
          0.30000000000000004
         ],
         "z": [
          2
         ]
        },
        {
         "line": {
          "color": "rgba(255, 0, 0, 0.3013695565151347)",
          "width": 3
         },
         "mode": "lines",
         "showlegend": false,
         "type": "scatter3d",
         "x": [
          1.7,
          1.21
         ],
         "y": [
          0.30000000000000004,
          -0.3999999999999999
         ],
         "z": [
          2,
          2.7
         ]
        },
        {
         "anchor": "tip",
         "colorscale": [
          [
           0,
           "rgba(255, 0, 0, 0.3013695565151347)"
          ],
          [
           1,
           "rgba(255, 0, 0, 0.3013695565151347)"
          ]
         ],
         "showscale": false,
         "sizemode": "raw",
         "sizeref": 0.1,
         "type": "cone",
         "u": [
          -0.49
         ],
         "v": [
          -0.7
         ],
         "w": [
          0.7000000000000002
         ],
         "x": [
          1.21
         ],
         "y": [
          -0.3999999999999999
         ],
         "z": [
          2.7
         ]
        },
        {
         "line": {
          "color": "rgba(255, 0, 0, 0.1)",
          "width": 3
         },
         "mode": "lines",
         "showlegend": false,
         "type": "scatter3d",
         "x": [
          1.21,
          1.553
         ],
         "y": [
          -0.3999999999999999,
          -1.0999999999999999
         ],
         "z": [
          2.7,
          3.19
         ]
        },
        {
         "anchor": "tip",
         "colorscale": [
          [
           0,
           "rgba(255, 0, 0, 0.1)"
          ],
          [
           1,
           "rgba(255, 0, 0, 0.1)"
          ]
         ],
         "showscale": false,
         "sizemode": "raw",
         "sizeref": 0.1,
         "type": "cone",
         "u": [
          0.34299999999999997
         ],
         "v": [
          -0.7
         ],
         "w": [
          0.48999999999999977
         ],
         "x": [
          1.553
         ],
         "y": [
          -1.0999999999999999
         ],
         "z": [
          3.19
         ]
        },
        {
         "line": {
          "color": "rgba(255, 0, 0, 0.1)",
          "width": 3
         },
         "mode": "lines",
         "showlegend": false,
         "type": "scatter3d",
         "x": [
          1.21,
          0.867
         ],
         "y": [
          -0.3999999999999999,
          0.09000000000000002
         ],
         "z": [
          2.7,
          3.4000000000000004
         ]
        },
        {
         "anchor": "tip",
         "colorscale": [
          [
           0,
           "rgba(255, 0, 0, 0.1)"
          ],
          [
           1,
           "rgba(255, 0, 0, 0.1)"
          ]
         ],
         "showscale": false,
         "sizemode": "raw",
         "sizeref": 0.1,
         "type": "cone",
         "u": [
          -0.34299999999999997
         ],
         "v": [
          0.48999999999999994
         ],
         "w": [
          0.7000000000000002
         ],
         "x": [
          0.867
         ],
         "y": [
          0.09000000000000002
         ],
         "z": [
          3.4000000000000004
         ]
        },
        {
         "line": {
          "color": "rgba(255, 0, 0, 0.3013695565151347)",
          "width": 3
         },
         "mode": "lines",
         "showlegend": false,
         "type": "scatter3d",
         "x": [
          1.7,
          2.19
         ],
         "y": [
          0.30000000000000004,
          0.79
         ],
         "z": [
          2,
          3
         ]
        },
        {
         "anchor": "tip",
         "colorscale": [
          [
           0,
           "rgba(255, 0, 0, 0.3013695565151347)"
          ],
          [
           1,
           "rgba(255, 0, 0, 0.3013695565151347)"
          ]
         ],
         "showscale": false,
         "sizemode": "raw",
         "sizeref": 0.1,
         "type": "cone",
         "u": [
          0.49
         ],
         "v": [
          0.49
         ],
         "w": [
          1
         ],
         "x": [
          2.19
         ],
         "y": [
          0.79
         ],
         "z": [
          3
         ]
        },
        {
         "line": {
          "color": "rgba(255, 0, 0, 0.1)",
          "width": 3
         },
         "mode": "lines",
         "showlegend": false,
         "type": "scatter3d",
         "x": [
          2.19,
          1.847
         ],
         "y": [
          0.79,
          1.28
         ],
         "z": [
          3,
          3.7
         ]
        },
        {
         "anchor": "tip",
         "colorscale": [
          [
           0,
           "rgba(255, 0, 0, 0.1)"
          ],
          [
           1,
           "rgba(255, 0, 0, 0.1)"
          ]
         ],
         "showscale": false,
         "sizemode": "raw",
         "sizeref": 0.1,
         "type": "cone",
         "u": [
          -0.34299999999999997
         ],
         "v": [
          0.49
         ],
         "w": [
          0.7000000000000002
         ],
         "x": [
          1.847
         ],
         "y": [
          1.28
         ],
         "z": [
          3.7
         ]
        },
        {
         "line": {
          "color": "rgba(255, 0, 0, 0.1)",
          "width": 3
         },
         "mode": "lines",
         "showlegend": false,
         "type": "scatter3d",
         "x": [
          2.19,
          2.533
         ],
         "y": [
          0.79,
          0.4470000000000001
         ],
         "z": [
          3,
          4
         ]
        },
        {
         "anchor": "tip",
         "colorscale": [
          [
           0,
           "rgba(255, 0, 0, 0.1)"
          ],
          [
           1,
           "rgba(255, 0, 0, 0.1)"
          ]
         ],
         "showscale": false,
         "sizemode": "raw",
         "sizeref": 0.1,
         "type": "cone",
         "u": [
          0.34299999999999997
         ],
         "v": [
          -0.3429999999999999
         ],
         "w": [
          1
         ],
         "x": [
          2.533
         ],
         "y": [
          0.4470000000000001
         ],
         "z": [
          4
         ]
        }
       ],
       "frames": [],
       "layout": {
        "height": 600,
        "margin": {
         "b": 50,
         "l": 50,
         "r": 50,
         "t": 60
        },
        "paper_bgcolor": "rgba(255,255,255,1)",
        "scene": {
         "aspectmode": "data",
         "bgcolor": "rgba(255,255,255,1)",
         "xaxis": {
          "showgrid": false,
          "visible": false,
          "zeroline": false
         },
         "yaxis": {
          "showgrid": false,
          "visible": false,
          "zeroline": false
         },
         "zaxis": {
          "showgrid": false,
          "visible": false,
          "zeroline": false
         }
        },
        "showlegend": false,
        "template": {
         "data": {
          "bar": [
           {
            "error_x": {
             "color": "#2a3f5f"
            },
            "error_y": {
             "color": "#2a3f5f"
            },
            "marker": {
             "line": {
              "color": "#E5ECF6",
              "width": 0.5
             }
            },
            "type": "bar"
           }
          ],
          "barpolar": [
           {
            "marker": {
             "line": {
              "color": "#E5ECF6",
              "width": 0.5
             }
            },
            "type": "barpolar"
           }
          ],
          "carpet": [
           {
            "aaxis": {
             "endlinecolor": "#2a3f5f",
             "gridcolor": "white",
             "linecolor": "white",
             "minorgridcolor": "white",
             "startlinecolor": "#2a3f5f"
            },
            "baxis": {
             "endlinecolor": "#2a3f5f",
             "gridcolor": "white",
             "linecolor": "white",
             "minorgridcolor": "white",
             "startlinecolor": "#2a3f5f"
            },
            "type": "carpet"
           }
          ],
          "choropleth": [
           {
            "colorbar": {
             "outlinewidth": 0,
             "ticks": ""
            },
            "type": "choropleth"
           }
          ],
          "contour": [
           {
            "colorbar": {
             "outlinewidth": 0,
             "ticks": ""
            },
            "colorscale": [
             [
              0,
              "#0d0887"
             ],
             [
              0.1111111111111111,
              "#46039f"
             ],
             [
              0.2222222222222222,
              "#7201a8"
             ],
             [
              0.3333333333333333,
              "#9c179e"
             ],
             [
              0.4444444444444444,
              "#bd3786"
             ],
             [
              0.5555555555555556,
              "#d8576b"
             ],
             [
              0.6666666666666666,
              "#ed7953"
             ],
             [
              0.7777777777777778,
              "#fb9f3a"
             ],
             [
              0.8888888888888888,
              "#fdca26"
             ],
             [
              1,
              "#f0f921"
             ]
            ],
            "type": "contour"
           }
          ],
          "contourcarpet": [
           {
            "colorbar": {
             "outlinewidth": 0,
             "ticks": ""
            },
            "type": "contourcarpet"
           }
          ],
          "heatmap": [
           {
            "colorbar": {
             "outlinewidth": 0,
             "ticks": ""
            },
            "colorscale": [
             [
              0,
              "#0d0887"
             ],
             [
              0.1111111111111111,
              "#46039f"
             ],
             [
              0.2222222222222222,
              "#7201a8"
             ],
             [
              0.3333333333333333,
              "#9c179e"
             ],
             [
              0.4444444444444444,
              "#bd3786"
             ],
             [
              0.5555555555555556,
              "#d8576b"
             ],
             [
              0.6666666666666666,
              "#ed7953"
             ],
             [
              0.7777777777777778,
              "#fb9f3a"
             ],
             [
              0.8888888888888888,
              "#fdca26"
             ],
             [
              1,
              "#f0f921"
             ]
            ],
            "type": "heatmap"
           }
          ],
          "heatmapgl": [
           {
            "colorbar": {
             "outlinewidth": 0,
             "ticks": ""
            },
            "colorscale": [
             [
              0,
              "#0d0887"
             ],
             [
              0.1111111111111111,
              "#46039f"
             ],
             [
              0.2222222222222222,
              "#7201a8"
             ],
             [
              0.3333333333333333,
              "#9c179e"
             ],
             [
              0.4444444444444444,
              "#bd3786"
             ],
             [
              0.5555555555555556,
              "#d8576b"
             ],
             [
              0.6666666666666666,
              "#ed7953"
             ],
             [
              0.7777777777777778,
              "#fb9f3a"
             ],
             [
              0.8888888888888888,
              "#fdca26"
             ],
             [
              1,
              "#f0f921"
             ]
            ],
            "type": "heatmapgl"
           }
          ],
          "histogram": [
           {
            "marker": {
             "colorbar": {
              "outlinewidth": 0,
              "ticks": ""
             }
            },
            "type": "histogram"
           }
          ],
          "histogram2d": [
           {
            "colorbar": {
             "outlinewidth": 0,
             "ticks": ""
            },
            "colorscale": [
             [
              0,
              "#0d0887"
             ],
             [
              0.1111111111111111,
              "#46039f"
             ],
             [
              0.2222222222222222,
              "#7201a8"
             ],
             [
              0.3333333333333333,
              "#9c179e"
             ],
             [
              0.4444444444444444,
              "#bd3786"
             ],
             [
              0.5555555555555556,
              "#d8576b"
             ],
             [
              0.6666666666666666,
              "#ed7953"
             ],
             [
              0.7777777777777778,
              "#fb9f3a"
             ],
             [
              0.8888888888888888,
              "#fdca26"
             ],
             [
              1,
              "#f0f921"
             ]
            ],
            "type": "histogram2d"
           }
          ],
          "histogram2dcontour": [
           {
            "colorbar": {
             "outlinewidth": 0,
             "ticks": ""
            },
            "colorscale": [
             [
              0,
              "#0d0887"
             ],
             [
              0.1111111111111111,
              "#46039f"
             ],
             [
              0.2222222222222222,
              "#7201a8"
             ],
             [
              0.3333333333333333,
              "#9c179e"
             ],
             [
              0.4444444444444444,
              "#bd3786"
             ],
             [
              0.5555555555555556,
              "#d8576b"
             ],
             [
              0.6666666666666666,
              "#ed7953"
             ],
             [
              0.7777777777777778,
              "#fb9f3a"
             ],
             [
              0.8888888888888888,
              "#fdca26"
             ],
             [
              1,
              "#f0f921"
             ]
            ],
            "type": "histogram2dcontour"
           }
          ],
          "mesh3d": [
           {
            "colorbar": {
             "outlinewidth": 0,
             "ticks": ""
            },
            "type": "mesh3d"
           }
          ],
          "parcoords": [
           {
            "line": {
             "colorbar": {
              "outlinewidth": 0,
              "ticks": ""
             }
            },
            "type": "parcoords"
           }
          ],
          "pie": [
           {
            "automargin": true,
            "type": "pie"
           }
          ],
          "scatter": [
           {
            "marker": {
             "colorbar": {
              "outlinewidth": 0,
              "ticks": ""
             }
            },
            "type": "scatter"
           }
          ],
          "scatter3d": [
           {
            "line": {
             "colorbar": {
              "outlinewidth": 0,
              "ticks": ""
             }
            },
            "marker": {
             "colorbar": {
              "outlinewidth": 0,
              "ticks": ""
             }
            },
            "type": "scatter3d"
           }
          ],
          "scattercarpet": [
           {
            "marker": {
             "colorbar": {
              "outlinewidth": 0,
              "ticks": ""
             }
            },
            "type": "scattercarpet"
           }
          ],
          "scattergeo": [
           {
            "marker": {
             "colorbar": {
              "outlinewidth": 0,
              "ticks": ""
             }
            },
            "type": "scattergeo"
           }
          ],
          "scattergl": [
           {
            "marker": {
             "colorbar": {
              "outlinewidth": 0,
              "ticks": ""
             }
            },
            "type": "scattergl"
           }
          ],
          "scattermapbox": [
           {
            "marker": {
             "colorbar": {
              "outlinewidth": 0,
              "ticks": ""
             }
            },
            "type": "scattermapbox"
           }
          ],
          "scatterpolar": [
           {
            "marker": {
             "colorbar": {
              "outlinewidth": 0,
              "ticks": ""
             }
            },
            "type": "scatterpolar"
           }
          ],
          "scatterpolargl": [
           {
            "marker": {
             "colorbar": {
              "outlinewidth": 0,
              "ticks": ""
             }
            },
            "type": "scatterpolargl"
           }
          ],
          "scatterternary": [
           {
            "marker": {
             "colorbar": {
              "outlinewidth": 0,
              "ticks": ""
             }
            },
            "type": "scatterternary"
           }
          ],
          "surface": [
           {
            "colorbar": {
             "outlinewidth": 0,
             "ticks": ""
            },
            "colorscale": [
             [
              0,
              "#0d0887"
             ],
             [
              0.1111111111111111,
              "#46039f"
             ],
             [
              0.2222222222222222,
              "#7201a8"
             ],
             [
              0.3333333333333333,
              "#9c179e"
             ],
             [
              0.4444444444444444,
              "#bd3786"
             ],
             [
              0.5555555555555556,
              "#d8576b"
             ],
             [
              0.6666666666666666,
              "#ed7953"
             ],
             [
              0.7777777777777778,
              "#fb9f3a"
             ],
             [
              0.8888888888888888,
              "#fdca26"
             ],
             [
              1,
              "#f0f921"
             ]
            ],
            "type": "surface"
           }
          ],
          "table": [
           {
            "cells": {
             "fill": {
              "color": "#EBF0F8"
             },
             "line": {
              "color": "white"
             }
            },
            "header": {
             "fill": {
              "color": "#C8D4E3"
             },
             "line": {
              "color": "white"
             }
            },
            "type": "table"
           }
          ]
         },
         "layout": {
          "annotationdefaults": {
           "arrowcolor": "#2a3f5f",
           "arrowhead": 0,
           "arrowwidth": 1
          },
          "autotypenumbers": "strict",
          "coloraxis": {
           "colorbar": {
            "outlinewidth": 0,
            "ticks": ""
           }
          },
          "colorscale": {
           "diverging": [
            [
             0,
             "#8e0152"
            ],
            [
             0.1,
             "#c51b7d"
            ],
            [
             0.2,
             "#de77ae"
            ],
            [
             0.3,
             "#f1b6da"
            ],
            [
             0.4,
             "#fde0ef"
            ],
            [
             0.5,
             "#f7f7f7"
            ],
            [
             0.6,
             "#e6f5d0"
            ],
            [
             0.7,
             "#b8e186"
            ],
            [
             0.8,
             "#7fbc41"
            ],
            [
             0.9,
             "#4d9221"
            ],
            [
             1,
             "#276419"
            ]
           ],
           "sequential": [
            [
             0,
             "#0d0887"
            ],
            [
             0.1111111111111111,
             "#46039f"
            ],
            [
             0.2222222222222222,
             "#7201a8"
            ],
            [
             0.3333333333333333,
             "#9c179e"
            ],
            [
             0.4444444444444444,
             "#bd3786"
            ],
            [
             0.5555555555555556,
             "#d8576b"
            ],
            [
             0.6666666666666666,
             "#ed7953"
            ],
            [
             0.7777777777777778,
             "#fb9f3a"
            ],
            [
             0.8888888888888888,
             "#fdca26"
            ],
            [
             1,
             "#f0f921"
            ]
           ],
           "sequentialminus": [
            [
             0,
             "#0d0887"
            ],
            [
             0.1111111111111111,
             "#46039f"
            ],
            [
             0.2222222222222222,
             "#7201a8"
            ],
            [
             0.3333333333333333,
             "#9c179e"
            ],
            [
             0.4444444444444444,
             "#bd3786"
            ],
            [
             0.5555555555555556,
             "#d8576b"
            ],
            [
             0.6666666666666666,
             "#ed7953"
            ],
            [
             0.7777777777777778,
             "#fb9f3a"
            ],
            [
             0.8888888888888888,
             "#fdca26"
            ],
            [
             1,
             "#f0f921"
            ]
           ]
          },
          "colorway": [
           "#636efa",
           "#EF553B",
           "#00cc96",
           "#ab63fa",
           "#FFA15A",
           "#19d3f3",
           "#FF6692",
           "#B6E880",
           "#FF97FF",
           "#FECB52"
          ],
          "font": {
           "color": "#2a3f5f"
          },
          "geo": {
           "bgcolor": "white",
           "lakecolor": "white",
           "landcolor": "#E5ECF6",
           "showlakes": true,
           "showland": true,
           "subunitcolor": "white"
          },
          "hoverlabel": {
           "align": "left"
          },
          "hovermode": "closest",
          "mapbox": {
           "style": "light"
          },
          "paper_bgcolor": "white",
          "plot_bgcolor": "#E5ECF6",
          "polar": {
           "angularaxis": {
            "gridcolor": "white",
            "linecolor": "white",
            "ticks": ""
           },
           "bgcolor": "#E5ECF6",
           "radialaxis": {
            "gridcolor": "white",
            "linecolor": "white",
            "ticks": ""
           }
          },
          "scene": {
           "xaxis": {
            "backgroundcolor": "#E5ECF6",
            "gridcolor": "white",
            "gridwidth": 2,
            "linecolor": "white",
            "showbackground": true,
            "ticks": "",
            "zerolinecolor": "white"
           },
           "yaxis": {
            "backgroundcolor": "#E5ECF6",
            "gridcolor": "white",
            "gridwidth": 2,
            "linecolor": "white",
            "showbackground": true,
            "ticks": "",
            "zerolinecolor": "white"
           },
           "zaxis": {
            "backgroundcolor": "#E5ECF6",
            "gridcolor": "white",
            "gridwidth": 2,
            "linecolor": "white",
            "showbackground": true,
            "ticks": "",
            "zerolinecolor": "white"
           }
          },
          "shapedefaults": {
           "line": {
            "color": "#2a3f5f"
           }
          },
          "ternary": {
           "aaxis": {
            "gridcolor": "white",
            "linecolor": "white",
            "ticks": ""
           },
           "baxis": {
            "gridcolor": "white",
            "linecolor": "white",
            "ticks": ""
           },
           "bgcolor": "#E5ECF6",
           "caxis": {
            "gridcolor": "white",
            "linecolor": "white",
            "ticks": ""
           }
          },
          "title": {
           "x": 0.05
          },
          "xaxis": {
           "automargin": true,
           "gridcolor": "white",
           "linecolor": "white",
           "ticks": "",
           "title": {
            "standoff": 15
           },
           "zerolinecolor": "white",
           "zerolinewidth": 2
          },
          "yaxis": {
           "automargin": true,
           "gridcolor": "white",
           "linecolor": "white",
           "ticks": "",
           "title": {
            "standoff": 15
           },
           "zerolinecolor": "white",
           "zerolinewidth": 2
          }
         }
        },
        "title": "Box Surface Plot",
        "width": 800
       }
      },
      "image/png": "[encoded data removed]",
      "image/svg+xml": [
       "<svg class=\"main-svg\" xmlns=\"http://www.w3.org/2000/svg\" xmlns:xlink=\"http://www.w3.org/1999/xlink\" width=\"700\" height=\"500\" style=\"\" viewBox=\"0 0 700 500\"><rect x=\"0\" y=\"0\" width=\"700\" height=\"500\" style=\"fill: rgb(255, 255, 255); fill-opacity: 1;\"/><defs id=\"defs-17a87e\"><g class=\"clips\"/><g class=\"gradients\"/><g class=\"patterns\"/></defs><g class=\"bglayer\"/><g class=\"layer-below\"><g class=\"imagelayer\"/><g class=\"shapelayer\"/></g><g class=\"cartesianlayer\"/><g class=\"polarlayer\"/><g class=\"ternarylayer\"/><g class=\"geolayer\"/><g class=\"funnelarealayer\"/><g class=\"pielayer\"/><g class=\"iciclelayer\"/><g class=\"treemaplayer\"/><g class=\"sunburstlayer\"/><g class=\"glimages\"><image xmlns=\"http://www.w3.org/2000/svg\" xlink:href=\"data:image/png;base64,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\" x=\"50\" y=\"60\" width=\"600\" height=\"390\" preserveAspectRatio=\"none\"/></g><defs id=\"topdefs-17a87e\"><g class=\"clips\"/></defs><g class=\"layer-above\"><g class=\"imagelayer\"/><g class=\"shapelayer\"/></g><g class=\"infolayer\"><g class=\"g-gtitle\"><text class=\"gtitle\" x=\"35\" y=\"30\" text-anchor=\"start\" dy=\"0em\" style=\"font-family: 'Open Sans', verdana, arial, sans-serif; font-size: 17px; fill: rgb(42, 63, 95); opacity: 1; font-weight: normal; white-space: pre;\">Box Surface Plot</text></g></g></svg>"
      ],
      "text/html": [
       "<div\n",
       "    class=\"webio-mountpoint\"\n",
       "    data-webio-mountpoint=\"13819011962773151232\"\n",
       ">\n",
       "    <script>\n",
       "    (function(){\n",
       "    // Some integrations (namely, IJulia/Jupyter) use an alternate render pathway than\n",
       "    // just putting the html on the page. If WebIO isn't defined, then it's pretty likely\n",
       "    // that we're in one of those situations and the integration just isn't installed\n",
       "    // correctly.\n",
       "    if (typeof window.WebIO === \"undefined\") {\n",
       "        document\n",
       "            .querySelector('[data-webio-mountpoint=\"13819011962773151232\"]')\n",
       "            .innerHTML = (\n",
       "                '<div style=\"padding: 1em; background-color: #f8d6da; border: 1px solid #f5c6cb; font-weight: bold;\">' +\n",
       "                '<p><strong>WebIO not detected.</strong></p>' +\n",
       "                '<p>Please read ' +\n",
       "                '<a href=\"https://juliagizmos.github.io/WebIO.jl/latest/troubleshooting/not-detected/\" target=\"_blank\">the troubleshooting guide</a> ' +\n",
       "                'for more information on how to resolve this issue.</p>' +\n",
       "                '<p><a href=\"https://juliagizmos.github.io/WebIO.jl/latest/troubleshooting/not-detected/\" target=\"_blank\">https://juliagizmos.github.io/WebIO.jl/latest/troubleshooting/not-detected/</a></p>' +\n",
       "                '</div>'\n",
       "            );\n",
       "        return;\n",
       "    }\n",
       "    WebIO.mount(\n",
       "        document.querySelector('[data-webio-mountpoint=\"13819011962773151232\"]'),\n",
       "        {\"props\":{},\"nodeType\":\"Scope\",\"type\":\"node\",\"instanceArgs\":{\"imports\":{\"data\":[{\"name\":\"Plotly\",\"type\":\"js\",\"url\":\"\\/assetserver\\/cc307016815ab69a398df3a44b03fc7a17640ae3-plotly.min.js\"},{\"name\":null,\"type\":\"js\",\"url\":\"\\/assetserver\\/33b52cc19f2e40f0e53dd791ca4779049f76a378-plotly_webio.bundle.js\"}],\"type\":\"async_block\"},\"id\":\"6994476011099175256\",\"handlers\":{\"_toImage\":[\"(function (options){return this.Plotly.toImage(this.plotElem,options).then((function (data){return WebIO.setval({\\\"name\\\":\\\"image\\\",\\\"scope\\\":\\\"6994476011099175256\\\",\\\"id\\\":\\\"445\\\",\\\"type\\\":\\\"observable\\\"},data)}))})\"],\"__get_gd_contents\":[\"(function (prop){prop==\\\"data\\\" ? (WebIO.setval({\\\"name\\\":\\\"__gd_contents\\\",\\\"scope\\\":\\\"6994476011099175256\\\",\\\"id\\\":\\\"446\\\",\\\"type\\\":\\\"observable\\\"},this.plotElem.data)) : undefined; return prop==\\\"layout\\\" ? (WebIO.setval({\\\"name\\\":\\\"__gd_contents\\\",\\\"scope\\\":\\\"6994476011099175256\\\",\\\"id\\\":\\\"446\\\",\\\"type\\\":\\\"observable\\\"},this.plotElem.layout)) : undefined})\"],\"_downloadImage\":[\"(function (options){return this.Plotly.downloadImage(this.plotElem,options)})\"],\"_commands\":[\"(function (args){var fn=args.shift(); var elem=this.plotElem; var Plotly=this.Plotly; args.unshift(elem); return Plotly[fn].apply(this,args)})\"]},\"systemjs_options\":null,\"mount_callbacks\":[\"function () {\\n    var handler = ((function (Plotly,PlotlyWebIO){PlotlyWebIO.init(WebIO); var gd=this.dom.querySelector(\\\"#plot-924a6b68-cbe0-484b-85e7-897527ceeb5c\\\"); this.plotElem=gd; this.Plotly=Plotly; (window.Blink!==undefined) ? (gd.style.width=\\\"100%\\\", gd.style.height=\\\"100vh\\\", gd.style.marginLeft=\\\"0%\\\", gd.style.marginTop=\\\"0vh\\\") : undefined; window.onresize=(function (){return Plotly.Plots.resize(gd)}); Plotly.newPlot(gd,[{\\\"showlegend\\\":false,\\\"mode\\\":\\\"lines\\\",\\\"line\\\":{\\\"color\\\":\\\"rgba(255, 0, 0, 0.9999986301390713)\\\",\\\"width\\\":3},\\\"y\\\":[0.0,1.0],\\\"type\\\":\\\"scatter3d\\\",\\\"z\\\":[0.0,1.0],\\\"x\\\":[0.0,1.0]},{\\\"sizeref\\\":0.1,\\\"v\\\":[1.0],\\\"colorscale\\\":[[0,\\\"rgba(255, 0, 0, 0.9999986301390713)\\\"],[1,\\\"rgba(255, 0, 0, 0.9999986301390713)\\\"]],\\\"z\\\":[1.0],\\\"u\\\":[1.0],\\\"sizemode\\\":\\\"raw\\\",\\\"w\\\":[1.0],\\\"y\\\":[1.0],\\\"type\\\":\\\"cone\\\",\\\"showscale\\\":false,\\\"anchor\\\":\\\"tip\\\",\\\"x\\\":[1.0]},{\\\"showlegend\\\":false,\\\"mode\\\":\\\"lines\\\",\\\"line\\\":{\\\"color\\\":\\\"rgba(255, 0, 0, 0.5890403515367557)\\\",\\\"width\\\":3},\\\"y\\\":[1.0,2.0],\\\"type\\\":\\\"scatter3d\\\",\\\"z\\\":[1.0,1.7],\\\"x\\\":[1.0,0.30000000000000004]},{\\\"sizeref\\\":0.1,\\\"v\\\":[1.0],\\\"colorscale\\\":[[0,\\\"rgba(255, 0, 0, 0.5890403515367557)\\\"],[1,\\\"rgba(255, 0, 0, 0.5890403515367557)\\\"]],\\\"z\\\":[1.7],\\\"u\\\":[-0.7],\\\"sizemode\\\":\\\"raw\\\",\\\"w\\\":[0.7],\\\"y\\\":[2.0],\\\"type\\\":\\\"cone\\\",\\\"showscale\\\":false,\\\"anchor\\\":\\\"tip\\\",\\\"x\\\":[0.30000000000000004]},{\\\"showlegend\\\":false,\\\"mode\\\":\\\"lines\\\",\\\"line\\\":{\\\"color\\\":\\\"rgba(255, 0, 0, 0.3013695565151347)\\\",\\\"width\\\":3},\\\"y\\\":[2.0,3.0],\\\"type\\\":\\\"scatter3d\\\",\\\"z\\\":[1.7,2.19],\\\"x\\\":[0.30000000000000004,0.79]},{\\\"sizeref\\\":0.1,\\\"v\\\":[1.0],\\\"colorscale\\\":[[0,\\\"rgba(255, 0, 0, 0.3013695565151347)\\\"],[1,\\\"rgba(255, 0, 0, 0.3013695565151347)\\\"]],\\\"z\\\":[2.19],\\\"u\\\":[0.49],\\\"sizemode\\\":\\\"raw\\\",\\\"w\\\":[0.49],\\\"y\\\":[3.0],\\\"type\\\":\\\"cone\\\",\\\"showscale\\\":false,\\\"anchor\\\":\\\"tip\\\",\\\"x\\\":[0.79]},{\\\"showlegend\\\":false,\\\"mode\\\":\\\"lines\\\",\\\"line\\\":{\\\"color\\\":\\\"rgba(255, 0, 0, 0.1)\\\",\\\"width\\\":3},\\\"y\\\":[3.0,4.0],\\\"type\\\":\\\"scatter3d\\\",\\\"z\\\":[2.19,2.533],\\\"x\\\":[0.79,0.4470000000000001]},{\\\"sizeref\\\":0.1,\\\"v\\\":[1.0],\\\"colorscale\\\":[[0,\\\"rgba(255, 0, 0, 0.1)\\\"],[1,\\\"rgba(255, 0, 0, 0.1)\\\"]],\\\"z\\\":[2.533],\\\"u\\\":[-0.3429999999999999],\\\"sizemode\\\":\\\"raw\\\",\\\"w\\\":[0.34299999999999997],\\\"y\\\":[4.0],\\\"type\\\":\\\"cone\\\",\\\"showscale\\\":false,\\\"anchor\\\":\\\"tip\\\",\\\"x\\\":[0.4470000000000001]},{\\\"showlegend\\\":false,\\\"mode\\\":\\\"lines\\\",\\\"line\\\":{\\\"color\\\":\\\"rgba(255, 0, 0, 0.1)\\\",\\\"width\\\":3},\\\"y\\\":[3.0,2.3],\\\"type\\\":\\\"scatter3d\\\",\\\"z\\\":[2.19,2.6799999999999997],\\\"x\\\":[0.79,1.133]},{\\\"sizeref\\\":0.1,\\\"v\\\":[-0.7000000000000002],\\\"colorscale\\\":[[0,\\\"rgba(255, 0, 0, 0.1)\\\"],[1,\\\"rgba(255, 0, 0, 0.1)\\\"]],\\\"z\\\":[2.6799999999999997],\\\"u\\\":[0.34299999999999997],\\\"sizemode\\\":\\\"raw\\\",\\\"w\\\":[0.48999999999999977],\\\"y\\\":[2.3],\\\"type\\\":\\\"cone\\\",\\\"showscale\\\":false,\\\"anchor\\\":\\\"tip\\\",\\\"x\\\":[1.133]},{\\\"showlegend\\\":false,\\\"mode\\\":\\\"lines\\\",\\\"line\\\":{\\\"color\\\":\\\"rgba(255, 0, 0, 0.3013695565151347)\\\",\\\"width\\\":3},\\\"y\\\":[2.0,1.3],\\\"type\\\":\\\"scatter3d\\\",\\\"z\\\":[1.7,2.4],\\\"x\\\":[0.30000000000000004,-0.1899999999999999]},{\\\"sizeref\\\":0.1,\\\"v\\\":[-0.7],\\\"colorscale\\\":[[0,\\\"rgba(255, 0, 0, 0.3013695565151347)\\\"],[1,\\\"rgba(255, 0, 0, 0.3013695565151347)\\\"]],\\\"z\\\":[2.4],\\\"u\\\":[-0.48999999999999994],\\\"sizemode\\\":\\\"raw\\\",\\\"w\\\":[0.7],\\\"y\\\":[1.3],\\\"type\\\":\\\"cone\\\",\\\"showscale\\\":false,\\\"anchor\\\":\\\"tip\\\",\\\"x\\\":[-0.1899999999999999]},{\\\"showlegend\\\":false,\\\"mode\\\":\\\"lines\\\",\\\"line\\\":{\\\"color\\\":\\\"rgba(255, 0, 0, 0.1)\\\",\\\"width\\\":3},\\\"y\\\":[1.3,0.6000000000000001],\\\"type\\\":\\\"scatter3d\\\",\\\"z\\\":[2.4,2.8899999999999997],\\\"x\\\":[-0.1899999999999999,0.15300000000000002]},{\\\"sizeref\\\":0.1,\\\"v\\\":[-0.7],\\\"colorscale\\\":[[0,\\\"rgba(255, 0, 0, 0.1)\\\"],[1,\\\"rgba(255, 0, 0, 0.1)\\\"]],\\\"z\\\":[2.8899999999999997],\\\"u\\\":[0.3429999999999999],\\\"sizemode\\\":\\\"raw\\\",\\\"w\\\":[0.48999999999999977],\\\"y\\\":[0.6000000000000001],\\\"type\\\":\\\"cone\\\",\\\"showscale\\\":false,\\\"anchor\\\":\\\"tip\\\",\\\"x\\\":[0.15300000000000002]},{\\\"showlegend\\\":false,\\\"mode\\\":\\\"lines\\\",\\\"line\\\":{\\\"color\\\":\\\"rgba(255, 0, 0, 0.1)\\\",\\\"width\\\":3},\\\"y\\\":[1.3,1.79],\\\"type\\\":\\\"scatter3d\\\",\\\"z\\\":[2.4,3.0999999999999996],\\\"x\\\":[-0.1899999999999999,-0.5329999999999998]},{\\\"sizeref\\\":0.1,\\\"v\\\":[0.49],\\\"colorscale\\\":[[0,\\\"rgba(255, 0, 0, 0.1)\\\"],[1,\\\"rgba(255, 0, 0, 0.1)\\\"]],\\\"z\\\":[3.0999999999999996],\\\"u\\\":[-0.3429999999999999],\\\"sizemode\\\":\\\"raw\\\",\\\"w\\\":[0.6999999999999997],\\\"y\\\":[1.79],\\\"type\\\":\\\"cone\\\",\\\"showscale\\\":false,\\\"anchor\\\":\\\"tip\\\",\\\"x\\\":[-0.5329999999999998]},{\\\"showlegend\\\":false,\\\"mode\\\":\\\"lines\\\",\\\"line\\\":{\\\"color\\\":\\\"rgba(255, 0, 0, 0.5890403515367557)\\\",\\\"width\\\":3},\\\"y\\\":[1.0,0.30000000000000004],\\\"type\\\":\\\"scatter3d\\\",\\\"z\\\":[1.0,2.0],\\\"x\\\":[1.0,1.7]},{\\\"sizeref\\\":0.1,\\\"v\\\":[-0.7],\\\"colorscale\\\":[[0,\\\"rgba(255, 0, 0, 0.5890403515367557)\\\"],[1,\\\"rgba(255, 0, 0, 0.5890403515367557)\\\"]],\\\"z\\\":[2.0],\\\"u\\\":[0.7],\\\"sizemode\\\":\\\"raw\\\",\\\"w\\\":[1.0],\\\"y\\\":[0.30000000000000004],\\\"type\\\":\\\"cone\\\",\\\"showscale\\\":false,\\\"anchor\\\":\\\"tip\\\",\\\"x\\\":[1.7]},{\\\"showlegend\\\":false,\\\"mode\\\":\\\"lines\\\",\\\"line\\\":{\\\"color\\\":\\\"rgba(255, 0, 0, 0.3013695565151347)\\\",\\\"width\\\":3},\\\"y\\\":[0.30000000000000004,-0.3999999999999999],\\\"type\\\":\\\"scatter3d\\\",\\\"z\\\":[2.0,2.7],\\\"x\\\":[1.7,1.21]},{\\\"sizeref\\\":0.1,\\\"v\\\":[-0.7],\\\"colorscale\\\":[[0,\\\"rgba(255, 0, 0, 0.3013695565151347)\\\"],[1,\\\"rgba(255, 0, 0, 0.3013695565151347)\\\"]],\\\"z\\\":[2.7],\\\"u\\\":[-0.49],\\\"sizemode\\\":\\\"raw\\\",\\\"w\\\":[0.7000000000000002],\\\"y\\\":[-0.3999999999999999],\\\"type\\\":\\\"cone\\\",\\\"showscale\\\":false,\\\"anchor\\\":\\\"tip\\\",\\\"x\\\":[1.21]},{\\\"showlegend\\\":false,\\\"mode\\\":\\\"lines\\\",\\\"line\\\":{\\\"color\\\":\\\"rgba(255, 0, 0, 0.1)\\\",\\\"width\\\":3},\\\"y\\\":[-0.3999999999999999,-1.0999999999999999],\\\"type\\\":\\\"scatter3d\\\",\\\"z\\\":[2.7,3.19],\\\"x\\\":[1.21,1.553]},{\\\"sizeref\\\":0.1,\\\"v\\\":[-0.7],\\\"colorscale\\\":[[0,\\\"rgba(255, 0, 0, 0.1)\\\"],[1,\\\"rgba(255, 0, 0, 0.1)\\\"]],\\\"z\\\":[3.19],\\\"u\\\":[0.34299999999999997],\\\"sizemode\\\":\\\"raw\\\",\\\"w\\\":[0.48999999999999977],\\\"y\\\":[-1.0999999999999999],\\\"type\\\":\\\"cone\\\",\\\"showscale\\\":false,\\\"anchor\\\":\\\"tip\\\",\\\"x\\\":[1.553]},{\\\"showlegend\\\":false,\\\"mode\\\":\\\"lines\\\",\\\"line\\\":{\\\"color\\\":\\\"rgba(255, 0, 0, 0.1)\\\",\\\"width\\\":3},\\\"y\\\":[-0.3999999999999999,0.09000000000000002],\\\"type\\\":\\\"scatter3d\\\",\\\"z\\\":[2.7,3.4000000000000004],\\\"x\\\":[1.21,0.867]},{\\\"sizeref\\\":0.1,\\\"v\\\":[0.48999999999999994],\\\"colorscale\\\":[[0,\\\"rgba(255, 0, 0, 0.1)\\\"],[1,\\\"rgba(255, 0, 0, 0.1)\\\"]],\\\"z\\\":[3.4000000000000004],\\\"u\\\":[-0.34299999999999997],\\\"sizemode\\\":\\\"raw\\\",\\\"w\\\":[0.7000000000000002],\\\"y\\\":[0.09000000000000002],\\\"type\\\":\\\"cone\\\",\\\"showscale\\\":false,\\\"anchor\\\":\\\"tip\\\",\\\"x\\\":[0.867]},{\\\"showlegend\\\":false,\\\"mode\\\":\\\"lines\\\",\\\"line\\\":{\\\"color\\\":\\\"rgba(255, 0, 0, 0.3013695565151347)\\\",\\\"width\\\":3},\\\"y\\\":[0.30000000000000004,0.79],\\\"type\\\":\\\"scatter3d\\\",\\\"z\\\":[2.0,3.0],\\\"x\\\":[1.7,2.19]},{\\\"sizeref\\\":0.1,\\\"v\\\":[0.49],\\\"colorscale\\\":[[0,\\\"rgba(255, 0, 0, 0.3013695565151347)\\\"],[1,\\\"rgba(255, 0, 0, 0.3013695565151347)\\\"]],\\\"z\\\":[3.0],\\\"u\\\":[0.49],\\\"sizemode\\\":\\\"raw\\\",\\\"w\\\":[1.0],\\\"y\\\":[0.79],\\\"type\\\":\\\"cone\\\",\\\"showscale\\\":false,\\\"anchor\\\":\\\"tip\\\",\\\"x\\\":[2.19]},{\\\"showlegend\\\":false,\\\"mode\\\":\\\"lines\\\",\\\"line\\\":{\\\"color\\\":\\\"rgba(255, 0, 0, 0.1)\\\",\\\"width\\\":3},\\\"y\\\":[0.79,1.28],\\\"type\\\":\\\"scatter3d\\\",\\\"z\\\":[3.0,3.7],\\\"x\\\":[2.19,1.847]},{\\\"sizeref\\\":0.1,\\\"v\\\":[0.49],\\\"colorscale\\\":[[0,\\\"rgba(255, 0, 0, 0.1)\\\"],[1,\\\"rgba(255, 0, 0, 0.1)\\\"]],\\\"z\\\":[3.7],\\\"u\\\":[-0.34299999999999997],\\\"sizemode\\\":\\\"raw\\\",\\\"w\\\":[0.7000000000000002],\\\"y\\\":[1.28],\\\"type\\\":\\\"cone\\\",\\\"showscale\\\":false,\\\"anchor\\\":\\\"tip\\\",\\\"x\\\":[1.847]},{\\\"showlegend\\\":false,\\\"mode\\\":\\\"lines\\\",\\\"line\\\":{\\\"color\\\":\\\"rgba(255, 0, 0, 0.1)\\\",\\\"width\\\":3},\\\"y\\\":[0.79,0.4470000000000001],\\\"type\\\":\\\"scatter3d\\\",\\\"z\\\":[3.0,4.0],\\\"x\\\":[2.19,2.533]},{\\\"sizeref\\\":0.1,\\\"v\\\":[-0.3429999999999999],\\\"colorscale\\\":[[0,\\\"rgba(255, 0, 0, 0.1)\\\"],[1,\\\"rgba(255, 0, 0, 0.1)\\\"]],\\\"z\\\":[4.0],\\\"u\\\":[0.34299999999999997],\\\"sizemode\\\":\\\"raw\\\",\\\"w\\\":[1.0],\\\"y\\\":[0.4470000000000001],\\\"type\\\":\\\"cone\\\",\\\"showscale\\\":false,\\\"anchor\\\":\\\"tip\\\",\\\"x\\\":[2.533]}],{\\\"showlegend\\\":false,\\\"paper_bgcolor\\\":\\\"rgba(255,255,255,1)\\\",\\\"template\\\":{\\\"layout\\\":{\\\"coloraxis\\\":{\\\"colorbar\\\":{\\\"ticks\\\":\\\"\\\",\\\"outlinewidth\\\":0}},\\\"xaxis\\\":{\\\"gridcolor\\\":\\\"white\\\",\\\"zerolinewidth\\\":2,\\\"title\\\":{\\\"standoff\\\":15},\\\"ticks\\\":\\\"\\\",\\\"zerolinecolor\\\":\\\"white\\\",\\\"automargin\\\":true,\\\"linecolor\\\":\\\"white\\\"},\\\"hovermode\\\":\\\"closest\\\",\\\"paper_bgcolor\\\":\\\"white\\\",\\\"geo\\\":{\\\"showlakes\\\":true,\\\"showland\\\":true,\\\"landcolor\\\":\\\"#E5ECF6\\\",\\\"bgcolor\\\":\\\"white\\\",\\\"subunitcolor\\\":\\\"white\\\",\\\"lakecolor\\\":\\\"white\\\"},\\\"colorscale\\\":{\\\"sequential\\\":[[0.0,\\\"#0d0887\\\"],[0.1111111111111111,\\\"#46039f\\\"],[0.2222222222222222,\\\"#7201a8\\\"],[0.3333333333333333,\\\"#9c179e\\\"],[0.4444444444444444,\\\"#bd3786\\\"],[0.5555555555555556,\\\"#d8576b\\\"],[0.6666666666666666,\\\"#ed7953\\\"],[0.7777777777777778,\\\"#fb9f3a\\\"],[0.8888888888888888,\\\"#fdca26\\\"],[1.0,\\\"#f0f921\\\"]],\\\"diverging\\\":[[0,\\\"#8e0152\\\"],[0.1,\\\"#c51b7d\\\"],[0.2,\\\"#de77ae\\\"],[0.3,\\\"#f1b6da\\\"],[0.4,\\\"#fde0ef\\\"],[0.5,\\\"#f7f7f7\\\"],[0.6,\\\"#e6f5d0\\\"],[0.7,\\\"#b8e186\\\"],[0.8,\\\"#7fbc41\\\"],[0.9,\\\"#4d9221\\\"],[1,\\\"#276419\\\"]],\\\"sequentialminus\\\":[[0.0,\\\"#0d0887\\\"],[0.1111111111111111,\\\"#46039f\\\"],[0.2222222222222222,\\\"#7201a8\\\"],[0.3333333333333333,\\\"#9c179e\\\"],[0.4444444444444444,\\\"#bd3786\\\"],[0.5555555555555556,\\\"#d8576b\\\"],[0.6666666666666666,\\\"#ed7953\\\"],[0.7777777777777778,\\\"#fb9f3a\\\"],[0.8888888888888888,\\\"#fdca26\\\"],[1.0,\\\"#f0f921\\\"]]},\\\"yaxis\\\":{\\\"gridcolor\\\":\\\"white\\\",\\\"zerolinewidth\\\":2,\\\"title\\\":{\\\"standoff\\\":15},\\\"ticks\\\":\\\"\\\",\\\"zerolinecolor\\\":\\\"white\\\",\\\"automargin\\\":true,\\\"linecolor\\\":\\\"white\\\"},\\\"shapedefaults\\\":{\\\"line\\\":{\\\"color\\\":\\\"#2a3f5f\\\"}},\\\"hoverlabel\\\":{\\\"align\\\":\\\"left\\\"},\\\"mapbox\\\":{\\\"style\\\":\\\"light\\\"},\\\"polar\\\":{\\\"angularaxis\\\":{\\\"gridcolor\\\":\\\"white\\\",\\\"ticks\\\":\\\"\\\",\\\"linecolor\\\":\\\"white\\\"},\\\"bgcolor\\\":\\\"#E5ECF6\\\",\\\"radialaxis\\\":{\\\"gridcolor\\\":\\\"white\\\",\\\"ticks\\\":\\\"\\\",\\\"linecolor\\\":\\\"white\\\"}},\\\"autotypenumbers\\\":\\\"strict\\\",\\\"font\\\":{\\\"color\\\":\\\"#2a3f5f\\\"},\\\"ternary\\\":{\\\"baxis\\\":{\\\"gridcolor\\\":\\\"white\\\",\\\"ticks\\\":\\\"\\\",\\\"linecolor\\\":\\\"white\\\"},\\\"bgcolor\\\":\\\"#E5ECF6\\\",\\\"caxis\\\":{\\\"gridcolor\\\":\\\"white\\\",\\\"ticks\\\":\\\"\\\",\\\"linecolor\\\":\\\"white\\\"},\\\"aaxis\\\":{\\\"gridcolor\\\":\\\"white\\\",\\\"ticks\\\":\\\"\\\",\\\"linecolor\\\":\\\"white\\\"}},\\\"annotationdefaults\\\":{\\\"arrowhead\\\":0,\\\"arrowwidth\\\":1,\\\"arrowcolor\\\":\\\"#2a3f5f\\\"},\\\"plot_bgcolor\\\":\\\"#E5ECF6\\\",\\\"title\\\":{\\\"x\\\":0.05},\\\"scene\\\":{\\\"xaxis\\\":{\\\"gridcolor\\\":\\\"white\\\",\\\"gridwidth\\\":2,\\\"backgroundcolor\\\":\\\"#E5ECF6\\\",\\\"ticks\\\":\\\"\\\",\\\"showbackground\\\":true,\\\"zerolinecolor\\\":\\\"white\\\",\\\"linecolor\\\":\\\"white\\\"},\\\"zaxis\\\":{\\\"gridcolor\\\":\\\"white\\\",\\\"gridwidth\\\":2,\\\"backgroundcolor\\\":\\\"#E5ECF6\\\",\\\"ticks\\\":\\\"\\\",\\\"showbackground\\\":true,\\\"zerolinecolor\\\":\\\"white\\\",\\\"linecolor\\\":\\\"white\\\"},\\\"yaxis\\\":{\\\"gridcolor\\\":\\\"white\\\",\\\"gridwidth\\\":2,\\\"backgroundcolor\\\":\\\"#E5ECF6\\\",\\\"ticks\\\":\\\"\\\",\\\"showbackground\\\":true,\\\"zerolinecolor\\\":\\\"white\\\",\\\"linecolor\\\":\\\"white\\\"}},\\\"colorway\\\":[\\\"#636efa\\\",\\\"#EF553B\\\",\\\"#00cc96\\\",\\\"#ab63fa\\\",\\\"#FFA15A\\\",\\\"#19d3f3\\\",\\\"#FF6692\\\",\\\"#B6E880\\\",\\\"#FF97FF\\\",\\\"#FECB52\\\"]},\\\"data\\\":{\\\"barpolar\\\":[{\\\"type\\\":\\\"barpolar\\\",\\\"marker\\\":{\\\"line\\\":{\\\"color\\\":\\\"#E5ECF6\\\",\\\"width\\\":0.5}}}],\\\"carpet\\\":[{\\\"aaxis\\\":{\\\"gridcolor\\\":\\\"white\\\",\\\"endlinecolor\\\":\\\"#2a3f5f\\\",\\\"minorgridcolor\\\":\\\"white\\\",\\\"startlinecolor\\\":\\\"#2a3f5f\\\",\\\"linecolor\\\":\\\"white\\\"},\\\"type\\\":\\\"carpet\\\",\\\"baxis\\\":{\\\"gridcolor\\\":\\\"white\\\",\\\"endlinecolor\\\":\\\"#2a3f5f\\\",\\\"minorgridcolor\\\":\\\"white\\\",\\\"startlinecolor\\\":\\\"#2a3f5f\\\",\\\"linecolor\\\":\\\"white\\\"}}],\\\"scatterpolar\\\":[{\\\"type\\\":\\\"scatterpolar\\\",\\\"marker\\\":{\\\"colorbar\\\":{\\\"ticks\\\":\\\"\\\",\\\"outlinewidth\\\":0}}}],\\\"parcoords\\\":[{\\\"line\\\":{\\\"colorbar\\\":{\\\"ticks\\\":\\\"\\\",\\\"outlinewidth\\\":0}},\\\"type\\\":\\\"parcoords\\\"}],\\\"scatter\\\":[{\\\"type\\\":\\\"scatter\\\",\\\"marker\\\":{\\\"colorbar\\\":{\\\"ticks\\\":\\\"\\\",\\\"outlinewidth\\\":0}}}],\\\"histogram2dcontour\\\":[{\\\"colorbar\\\":{\\\"ticks\\\":\\\"\\\",\\\"outlinewidth\\\":0},\\\"type\\\":\\\"histogram2dcontour\\\",\\\"colorscale\\\":[[0.0,\\\"#0d0887\\\"],[0.1111111111111111,\\\"#46039f\\\"],[0.2222222222222222,\\\"#7201a8\\\"],[0.3333333333333333,\\\"#9c179e\\\"],[0.4444444444444444,\\\"#bd3786\\\"],[0.5555555555555556,\\\"#d8576b\\\"],[0.6666666666666666,\\\"#ed7953\\\"],[0.7777777777777778,\\\"#fb9f3a\\\"],[0.8888888888888888,\\\"#fdca26\\\"],[1.0,\\\"#f0f921\\\"]]}],\\\"contour\\\":[{\\\"colorbar\\\":{\\\"ticks\\\":\\\"\\\",\\\"outlinewidth\\\":0},\\\"type\\\":\\\"contour\\\",\\\"colorscale\\\":[[0.0,\\\"#0d0887\\\"],[0.1111111111111111,\\\"#46039f\\\"],[0.2222222222222222,\\\"#7201a8\\\"],[0.3333333333333333,\\\"#9c179e\\\"],[0.4444444444444444,\\\"#bd3786\\\"],[0.5555555555555556,\\\"#d8576b\\\"],[0.6666666666666666,\\\"#ed7953\\\"],[0.7777777777777778,\\\"#fb9f3a\\\"],[0.8888888888888888,\\\"#fdca26\\\"],[1.0,\\\"#f0f921\\\"]]}],\\\"scattercarpet\\\":[{\\\"type\\\":\\\"scattercarpet\\\",\\\"marker\\\":{\\\"colorbar\\\":{\\\"ticks\\\":\\\"\\\",\\\"outlinewidth\\\":0}}}],\\\"mesh3d\\\":[{\\\"colorbar\\\":{\\\"ticks\\\":\\\"\\\",\\\"outlinewidth\\\":0},\\\"type\\\":\\\"mesh3d\\\"}],\\\"surface\\\":[{\\\"colorbar\\\":{\\\"ticks\\\":\\\"\\\",\\\"outlinewidth\\\":0},\\\"type\\\":\\\"surface\\\",\\\"colorscale\\\":[[0.0,\\\"#0d0887\\\"],[0.1111111111111111,\\\"#46039f\\\"],[0.2222222222222222,\\\"#7201a8\\\"],[0.3333333333333333,\\\"#9c179e\\\"],[0.4444444444444444,\\\"#bd3786\\\"],[0.5555555555555556,\\\"#d8576b\\\"],[0.6666666666666666,\\\"#ed7953\\\"],[0.7777777777777778,\\\"#fb9f3a\\\"],[0.8888888888888888,\\\"#fdca26\\\"],[1.0,\\\"#f0f921\\\"]]}],\\\"scattermapbox\\\":[{\\\"type\\\":\\\"scattermapbox\\\",\\\"marker\\\":{\\\"colorbar\\\":{\\\"ticks\\\":\\\"\\\",\\\"outlinewidth\\\":0}}}],\\\"scattergeo\\\":[{\\\"type\\\":\\\"scattergeo\\\",\\\"marker\\\":{\\\"colorbar\\\":{\\\"ticks\\\":\\\"\\\",\\\"outlinewidth\\\":0}}}],\\\"histogram\\\":[{\\\"type\\\":\\\"histogram\\\",\\\"marker\\\":{\\\"colorbar\\\":{\\\"ticks\\\":\\\"\\\",\\\"outlinewidth\\\":0}}}],\\\"pie\\\":[{\\\"type\\\":\\\"pie\\\",\\\"automargin\\\":true}],\\\"choropleth\\\":[{\\\"colorbar\\\":{\\\"ticks\\\":\\\"\\\",\\\"outlinewidth\\\":0},\\\"type\\\":\\\"choropleth\\\"}],\\\"heatmapgl\\\":[{\\\"colorbar\\\":{\\\"ticks\\\":\\\"\\\",\\\"outlinewidth\\\":0},\\\"type\\\":\\\"heatmapgl\\\",\\\"colorscale\\\":[[0.0,\\\"#0d0887\\\"],[0.1111111111111111,\\\"#46039f\\\"],[0.2222222222222222,\\\"#7201a8\\\"],[0.3333333333333333,\\\"#9c179e\\\"],[0.4444444444444444,\\\"#bd3786\\\"],[0.5555555555555556,\\\"#d8576b\\\"],[0.6666666666666666,\\\"#ed7953\\\"],[0.7777777777777778,\\\"#fb9f3a\\\"],[0.8888888888888888,\\\"#fdca26\\\"],[1.0,\\\"#f0f921\\\"]]}],\\\"bar\\\":[{\\\"type\\\":\\\"bar\\\",\\\"error_y\\\":{\\\"color\\\":\\\"#2a3f5f\\\"},\\\"error_x\\\":{\\\"color\\\":\\\"#2a3f5f\\\"},\\\"marker\\\":{\\\"line\\\":{\\\"color\\\":\\\"#E5ECF6\\\",\\\"width\\\":0.5}}}],\\\"heatmap\\\":[{\\\"colorbar\\\":{\\\"ticks\\\":\\\"\\\",\\\"outlinewidth\\\":0},\\\"type\\\":\\\"heatmap\\\",\\\"colorscale\\\":[[0.0,\\\"#0d0887\\\"],[0.1111111111111111,\\\"#46039f\\\"],[0.2222222222222222,\\\"#7201a8\\\"],[0.3333333333333333,\\\"#9c179e\\\"],[0.4444444444444444,\\\"#bd3786\\\"],[0.5555555555555556,\\\"#d8576b\\\"],[0.6666666666666666,\\\"#ed7953\\\"],[0.7777777777777778,\\\"#fb9f3a\\\"],[0.8888888888888888,\\\"#fdca26\\\"],[1.0,\\\"#f0f921\\\"]]}],\\\"contourcarpet\\\":[{\\\"colorbar\\\":{\\\"ticks\\\":\\\"\\\",\\\"outlinewidth\\\":0},\\\"type\\\":\\\"contourcarpet\\\"}],\\\"table\\\":[{\\\"type\\\":\\\"table\\\",\\\"header\\\":{\\\"line\\\":{\\\"color\\\":\\\"white\\\"},\\\"fill\\\":{\\\"color\\\":\\\"#C8D4E3\\\"}},\\\"cells\\\":{\\\"line\\\":{\\\"color\\\":\\\"white\\\"},\\\"fill\\\":{\\\"color\\\":\\\"#EBF0F8\\\"}}}],\\\"scatter3d\\\":[{\\\"line\\\":{\\\"colorbar\\\":{\\\"ticks\\\":\\\"\\\",\\\"outlinewidth\\\":0}},\\\"type\\\":\\\"scatter3d\\\",\\\"marker\\\":{\\\"colorbar\\\":{\\\"ticks\\\":\\\"\\\",\\\"outlinewidth\\\":0}}}],\\\"scattergl\\\":[{\\\"type\\\":\\\"scattergl\\\",\\\"marker\\\":{\\\"colorbar\\\":{\\\"ticks\\\":\\\"\\\",\\\"outlinewidth\\\":0}}}],\\\"histogram2d\\\":[{\\\"colorbar\\\":{\\\"ticks\\\":\\\"\\\",\\\"outlinewidth\\\":0},\\\"type\\\":\\\"histogram2d\\\",\\\"colorscale\\\":[[0.0,\\\"#0d0887\\\"],[0.1111111111111111,\\\"#46039f\\\"],[0.2222222222222222,\\\"#7201a8\\\"],[0.3333333333333333,\\\"#9c179e\\\"],[0.4444444444444444,\\\"#bd3786\\\"],[0.5555555555555556,\\\"#d8576b\\\"],[0.6666666666666666,\\\"#ed7953\\\"],[0.7777777777777778,\\\"#fb9f3a\\\"],[0.8888888888888888,\\\"#fdca26\\\"],[1.0,\\\"#f0f921\\\"]]}],\\\"scatterternary\\\":[{\\\"type\\\":\\\"scatterternary\\\",\\\"marker\\\":{\\\"colorbar\\\":{\\\"ticks\\\":\\\"\\\",\\\"outlinewidth\\\":0}}}],\\\"scatterpolargl\\\":[{\\\"type\\\":\\\"scatterpolargl\\\",\\\"marker\\\":{\\\"colorbar\\\":{\\\"ticks\\\":\\\"\\\",\\\"outlinewidth\\\":0}}}]}},\\\"height\\\":600,\\\"margin\\\":{\\\"l\\\":50,\\\"b\\\":50,\\\"r\\\":50,\\\"t\\\":60},\\\"title\\\":\\\"Box Surface Plot\\\",\\\"scene\\\":{\\\"xaxis\\\":{\\\"showgrid\\\":false,\\\"zeroline\\\":false,\\\"visible\\\":false},\\\"bgcolor\\\":\\\"rgba(255,255,255,1)\\\",\\\"yaxis\\\":{\\\"showgrid\\\":false,\\\"zeroline\\\":false,\\\"visible\\\":false},\\\"zaxis\\\":{\\\"showgrid\\\":false,\\\"zeroline\\\":false,\\\"visible\\\":false},\\\"aspectmode\\\":\\\"data\\\"},\\\"width\\\":800},{\\\"showLink\\\":false,\\\"editable\\\":false,\\\"responsive\\\":true,\\\"staticPlot\\\":false,\\\"scrollZoom\\\":true}); gd.on(\\\"plotly_hover\\\",(function (data){var filtered_data=WebIO.PlotlyCommands.filterEventData(gd,data,\\\"hover\\\"); return !(filtered_data.isnil) ? (WebIO.setval({\\\"name\\\":\\\"hover\\\",\\\"scope\\\":\\\"6994476011099175256\\\",\\\"id\\\":\\\"441\\\",\\\"type\\\":\\\"observable\\\"},filtered_data.out)) : undefined})); gd.on(\\\"plotly_unhover\\\",(function (){return WebIO.setval({\\\"name\\\":\\\"hover\\\",\\\"scope\\\":\\\"6994476011099175256\\\",\\\"id\\\":\\\"441\\\",\\\"type\\\":\\\"observable\\\"},{})})); gd.on(\\\"plotly_selected\\\",(function (data){var filtered_data=WebIO.PlotlyCommands.filterEventData(gd,data,\\\"selected\\\"); return !(filtered_data.isnil) ? (WebIO.setval({\\\"name\\\":\\\"selected\\\",\\\"scope\\\":\\\"6994476011099175256\\\",\\\"id\\\":\\\"442\\\",\\\"type\\\":\\\"observable\\\"},filtered_data.out)) : undefined})); gd.on(\\\"plotly_deselect\\\",(function (){return WebIO.setval({\\\"name\\\":\\\"selected\\\",\\\"scope\\\":\\\"6994476011099175256\\\",\\\"id\\\":\\\"442\\\",\\\"type\\\":\\\"observable\\\"},{})})); gd.on(\\\"plotly_relayout\\\",(function (data){var filtered_data=WebIO.PlotlyCommands.filterEventData(gd,data,\\\"relayout\\\"); return !(filtered_data.isnil) ? (WebIO.setval({\\\"name\\\":\\\"relayout\\\",\\\"scope\\\":\\\"6994476011099175256\\\",\\\"id\\\":\\\"444\\\",\\\"type\\\":\\\"observable\\\"},filtered_data.out)) : undefined})); return gd.on(\\\"plotly_click\\\",(function (data){var filtered_data=WebIO.PlotlyCommands.filterEventData(gd,data,\\\"click\\\"); return !(filtered_data.isnil) ? (WebIO.setval({\\\"name\\\":\\\"click\\\",\\\"scope\\\":\\\"6994476011099175256\\\",\\\"id\\\":\\\"443\\\",\\\"type\\\":\\\"observable\\\"},filtered_data.out)) : undefined}))}));\\n    (WebIO.importBlock({\\\"data\\\":[{\\\"name\\\":\\\"Plotly\\\",\\\"type\\\":\\\"js\\\",\\\"url\\\":\\\"\\/assetserver\\/cc307016815ab69a398df3a44b03fc7a17640ae3-plotly.min.js\\\"},{\\\"name\\\":null,\\\"type\\\":\\\"js\\\",\\\"url\\\":\\\"\\/assetserver\\/33b52cc19f2e40f0e53dd791ca4779049f76a378-plotly_webio.bundle.js\\\"}],\\\"type\\\":\\\"async_block\\\"})).then((imports) => handler.apply(this, imports));\\n}\\n\"],\"observables\":{\"_toImage\":{\"sync\":false,\"id\":\"448\",\"value\":{}},\"hover\":{\"sync\":false,\"id\":\"441\",\"value\":{}},\"selected\":{\"sync\":false,\"id\":\"442\",\"value\":{}},\"__gd_contents\":{\"sync\":false,\"id\":\"446\",\"value\":{}},\"click\":{\"sync\":false,\"id\":\"443\",\"value\":{}},\"image\":{\"sync\":true,\"id\":\"445\",\"value\":\"\"},\"__get_gd_contents\":{\"sync\":false,\"id\":\"450\",\"value\":\"\"},\"_downloadImage\":{\"sync\":false,\"id\":\"449\",\"value\":{}},\"relayout\":{\"sync\":false,\"id\":\"444\",\"value\":{}},\"_commands\":{\"sync\":false,\"id\":\"447\",\"value\":[]}}},\"children\":[{\"props\":{\"id\":\"plot-924a6b68-cbe0-484b-85e7-897527ceeb5c\"},\"nodeType\":\"DOM\",\"type\":\"node\",\"instanceArgs\":{\"namespace\":\"html\",\"tag\":\"div\"},\"children\":[]}]},\n",
       "        window,\n",
       "    );\n",
       "    })()\n",
       "    </script>\n",
       "</div>\n"
      ],
      "text/plain": [
       "data: [\n",
       "  \"scatter3d with fields line, mode, showlegend, type, x, y, and z\",\n",
       "  \"cone with fields anchor, colorscale, showscale, sizemode, sizeref, type, u, v, w, x, y, and z\",\n",
       "  \"scatter3d with fields line, mode, showlegend, type, x, y, and z\",\n",
       "  \"cone with fields anchor, colorscale, showscale, sizemode, sizeref, type, u, v, w, x, y, and z\",\n",
       "  \"scatter3d with fields line, mode, showlegend, type, x, y, and z\",\n",
       "  \"cone with fields anchor, colorscale, showscale, sizemode, sizeref, type, u, v, w, x, y, and z\",\n",
       "  \"scatter3d with fields line, mode, showlegend, type, x, y, and z\",\n",
       "  \"cone with fields anchor, colorscale, showscale, sizemode, sizeref, type, u, v, w, x, y, and z\",\n",
       "  \"scatter3d with fields line, mode, showlegend, type, x, y, and z\",\n",
       "  \"cone with fields anchor, colorscale, showscale, sizemode, sizeref, type, u, v, w, x, y, and z\",\n",
       "  \"scatter3d with fields line, mode, showlegend, type, x, y, and z\",\n",
       "  \"cone with fields anchor, colorscale, showscale, sizemode, sizeref, type, u, v, w, x, y, and z\",\n",
       "  \"scatter3d with fields line, mode, showlegend, type, x, y, and z\",\n",
       "  \"cone with fields anchor, colorscale, showscale, sizemode, sizeref, type, u, v, w, x, y, and z\",\n",
       "  \"scatter3d with fields line, mode, showlegend, type, x, y, and z\",\n",
       "  \"cone with fields anchor, colorscale, showscale, sizemode, sizeref, type, u, v, w, x, y, and z\",\n",
       "  \"scatter3d with fields line, mode, showlegend, type, x, y, and z\",\n",
       "  \"cone with fields anchor, colorscale, showscale, sizemode, sizeref, type, u, v, w, x, y, and z\",\n",
       "  \"scatter3d with fields line, mode, showlegend, type, x, y, and z\",\n",
       "  \"cone with fields anchor, colorscale, showscale, sizemode, sizeref, type, u, v, w, x, y, and z\",\n",
       "  \"scatter3d with fields line, mode, showlegend, type, x, y, and z\",\n",
       "  \"cone with fields anchor, colorscale, showscale, sizemode, sizeref, type, u, v, w, x, y, and z\",\n",
       "  \"scatter3d with fields line, mode, showlegend, type, x, y, and z\",\n",
       "  \"cone with fields anchor, colorscale, showscale, sizemode, sizeref, type, u, v, w, x, y, and z\",\n",
       "  \"scatter3d with fields line, mode, showlegend, type, x, y, and z\",\n",
       "  \"cone with fields anchor, colorscale, showscale, sizemode, sizeref, type, u, v, w, x, y, and z\",\n",
       "  \"scatter3d with fields line, mode, showlegend, type, x, y, and z\",\n",
       "  \"cone with fields anchor, colorscale, showscale, sizemode, sizeref, type, u, v, w, x, y, and z\",\n",
       "  \"scatter3d with fields line, mode, showlegend, type, x, y, and z\",\n",
       "  \"cone with fields anchor, colorscale, showscale, sizemode, sizeref, type, u, v, w, x, y, and z\"\n",
       "]\n",
       "\n",
       "layout: \"layout with fields height, margin, paper_bgcolor, scene, showlegend, template, title, and width\"\n",
       "\n"
      ]
     },
     "metadata": {},
     "output_type": "display_data"
    },
    {
     "data": {
      "text/plain": [
       "NaN"
      ]
     },
     "metadata": {},
     "output_type": "display_data"
    }
   ],
   "source": [
    "# Create initial ray with full amplitude\n",
    "initial_ray = Ray([0.0, 0.0, 0.0], [1.0, 1.0, 1.0], 1.0)\n",
    "root = TrajectoryNode(initial_ray, [])\n",
    "trajectory = Trajectory(root)\n",
    "\n",
    "# Generate rays up to 3 levels deep\n",
    "generate_rays!(root, 3)\n",
    "\n",
    "# Plot the complex ray trajectory\n",
    "# plot_trajectory(trajectory; color=\"rgba($(rand(0:255)), $(rand(0:255)), $(rand(0:255)), 1)\")\n",
    "plot_trajectory(trajectory; color=\"rgba(255,0,0,1)\")\n"
   ]
  },
  {
   "cell_type": "code",
   "execution_count": null,
   "metadata": {},
   "outputs": [],
   "source": []
  }
 ],
 "metadata": {
  "kernelspec": {
   "display_name": "Julia 1.11.3",
   "language": "julia",
   "name": "julia-1.11"
  },
  "language_info": {
   "file_extension": ".jl",
   "mimetype": "application/julia",
   "name": "julia",
   "version": "1.11.3"
  }
 },
 "nbformat": 4,
 "nbformat_minor": 2
}

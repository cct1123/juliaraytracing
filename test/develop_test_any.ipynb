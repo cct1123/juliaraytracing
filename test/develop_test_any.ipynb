{
 "cells": [
  {
   "cell_type": "code",
   "execution_count": null,
   "metadata": {},
   "outputs": [
    {
     "data": {
      "text/plain": [
       "find_leaf_nodes (generic function with 3 methods)"
      ]
     },
     "metadata": {},
     "output_type": "display_data"
    }
   ],
   "source": [
    "using LinearAlgebra\n",
    "const Vec3 = Vector{Float64};\n",
    "const Vec2 = Vector{Float64};\n",
    "const Point = Vec3;\n",
    "const Direction = Vec3;\n",
    "mutable struct Ray\n",
    "    origin::Point       # 3D vector origin position\n",
    "    direction::Direction # 3D vector direction\n",
    "    amplitude::Float64  # Amplitude of the ray\n",
    "    \n",
    "    # Constructor with default amplitude value\n",
    "    function Ray(origin::Point, direction::Direction; amplitude::Float64=1.0)\n",
    "        new(origin, direction, amplitude)\n",
    "    end\n",
    "end\n",
    "\n",
    "mutable struct TrajectoryNode\n",
    "    ray::Ray\n",
    "    children::Vector{TrajectoryNode}\n",
    "    # function TrajectoryNode(ray::Ray, children::Vector{TrajectoryNode} = [])\n",
    "    #     new(ray, children)\n",
    "    # end\n",
    "end\n",
    "\n",
    "mutable struct Trajectory\n",
    "    root::TrajectoryNode\n",
    "end\n",
    "\n",
    "\n",
    "function find_leaf_nodes(node::TrajectoryNode, leaves::Vector{TrajectoryNode} = [])\n",
    "    if isempty(node.children)\n",
    "        push!(leaves, node)\n",
    "    else\n",
    "        for child in node.children\n",
    "            find_leaf_nodes(child, leaves)\n",
    "        end\n",
    "    end\n",
    "    # !! WARNING !! modifying the leaf_nodes vector will directly affect the trajectory \n",
    "    #               because leaf_nodes contains references to the actual TrajectoryNode objects in the tree.\n",
    "    return leaves\n",
    "end\n",
    "\n",
    "function find_leaf_nodes(trajectory::Trajectory)\n",
    "    leaves = TrajectoryNode[]\n",
    "    find_leaf_nodes(trajectory.root, leaves)\n",
    "    # !! WARNING !! modifying the leaf_nodes vector will directly affect the trajectory \n",
    "    #               because leaf_nodes contains references to the actual TrajectoryNode objects in the tree.\n",
    "    return leaves\n",
    "end"
   ]
  },
  {
   "cell_type": "code",
   "execution_count": 8,
   "metadata": {},
   "outputs": [
    {
     "name": "stdout",
     "output_type": "stream",
     "text": [
      "Leaf nodes found: 2\n",
      "Leaf 1: Origin = [2.0, 1.0, 0.0], Direction = [1.0, 0.0, 0.0]\n",
      "Leaf 2: Origin = [2.0, -1.0, 0.0], Direction = [1.0, 0.0, 0.0]\n"
     ]
    }
   ],
   "source": [
    "\"\"\"\n",
    "        root (ray1)\n",
    "       /        \\\n",
    "   node2 (ray2)   node3 (ray3)\n",
    "   /                \\\n",
    "node4 (ray4)    node5 (ray5)\n",
    "\n",
    "\"\"\"\n",
    "\n",
    "# Define some rays\n",
    "ray1 = Ray([0.0, 0.0, 0.0], [1.0, 0.0, 0.0])\n",
    "ray2 = Ray([1.0, 0.0, 0.0], [1.0, 1.0, 0.0])\n",
    "ray3 = Ray([1.0, 0.0, 0.0], [1.0, -1.0, 0.0])\n",
    "ray4 = Ray([2.0, 1.0, 0.0], [1.0, 0.0, 0.0])\n",
    "ray5 = Ray([2.0, -1.0, 0.0], [1.0, 0.0, 0.0])\n",
    "\n",
    "# Construct the trajectory tree\n",
    "node4 = TrajectoryNode(ray4, [])  # Leaf node\n",
    "node5 = TrajectoryNode(ray5, [])  # Leaf node\n",
    "node2 = TrajectoryNode(ray2, [node4])\n",
    "node3 = TrajectoryNode(ray3, [node5])\n",
    "root = TrajectoryNode(ray1, [node2, node3])\n",
    "\n",
    "# Create the trajectory\n",
    "trajectory = Trajectory(root)\n",
    "\n",
    "# Find leaf nodes\n",
    "leaf_nodes = find_leaf_nodes(trajectory)\n",
    "\n",
    "# Print results\n",
    "println(\"Leaf nodes found: \", length(leaf_nodes))\n",
    "for (i, leaf) in enumerate(leaf_nodes)\n",
    "    println(\"Leaf $i: Origin = \", leaf.ray.origin, \", Direction = \", leaf.ray.direction)\n",
    "end\n",
    "\n"
   ]
  },
  {
   "cell_type": "code",
   "execution_count": 11,
   "metadata": {},
   "outputs": [
    {
     "data": {
      "text/plain": [
       "Ray([2.0, -1.0, 0.0], [1.0, 1.0, 1.0], 1.0)"
      ]
     },
     "metadata": {},
     "output_type": "display_data"
    }
   ],
   "source": [
    "leaf_nodes[1].ray = Ray([2.0, -1.0, 0.0], [1.0, 1.0, 1.0])"
   ]
  },
  {
   "cell_type": "code",
   "execution_count": 13,
   "metadata": {},
   "outputs": [
    {
     "name": "stdout",
     "output_type": "stream",
     "text": [
      "Leaf nodes found: 2\n",
      "Leaf 1: Origin = [2.0, -1.0, 0.0], Direction = [1.0, 1.0, 1.0]\n",
      "Leaf 2: Origin = [2.0, -1.0, 0.0], Direction = [1.0, 0.0, 0.0]\n"
     ]
    }
   ],
   "source": [
    "# Find leaf nodes\n",
    "leaf_nodes = find_leaf_nodes(trajectory)\n",
    "\n",
    "# Print results\n",
    "println(\"Leaf nodes found: \", length(leaf_nodes))\n",
    "for (i, leaf) in enumerate(leaf_nodes)\n",
    "    println(\"Leaf $i: Origin = \", leaf.ray.origin, \", Direction = \", leaf.ray.direction)\n",
    "end"
   ]
  },
  {
   "cell_type": "code",
   "execution_count": 3,
   "metadata": {},
   "outputs": [
    {
     "data": {
      "text/plain": [
       "-2867.4174785275222"
      ]
     },
     "metadata": {},
     "output_type": "display_data"
    }
   ],
   "source": [
    "wd = 3000.0\n",
    "na = 0.8\n",
    "nn = 2.4\n",
    "tt = 500.0\n",
    "wd_eff = -wd+tt/nn*sqrt((1-na^2)/(1-(na/nn)^2))"
   ]
  },
  {
   "cell_type": "code",
   "execution_count": 4,
   "metadata": {},
   "outputs": [
    {
     "data": {
      "text/plain": [
       "-2791.6666666666665"
      ]
     },
     "metadata": {},
     "output_type": "display_data"
    }
   ],
   "source": [
    "wd_eff = -wd+tt/nn"
   ]
  },
  {
   "cell_type": "code",
   "execution_count": null,
   "metadata": {},
   "outputs": [],
   "source": []
  }
 ],
 "metadata": {
  "kernelspec": {
   "display_name": "Julia 1.11.3",
   "language": "julia",
   "name": "julia-1.11"
  },
  "language_info": {
   "file_extension": ".jl",
   "mimetype": "application/julia",
   "name": "julia",
   "version": "1.11.3"
  }
 },
 "nbformat": 4,
 "nbformat_minor": 2
}
